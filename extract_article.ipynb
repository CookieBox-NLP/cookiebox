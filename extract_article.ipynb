{
 "cells": [
  {
   "cell_type": "code",
   "execution_count": 1,
   "metadata": {},
   "outputs": [],
   "source": [
    "from newspaper import Article"
   ]
  },
  {
   "cell_type": "code",
   "execution_count": 2,
   "metadata": {},
   "outputs": [],
   "source": [
    "url = 'https://www.foxnews.com/entertainment/oscars-chris-rock-steve-martin-monologue'\n",
    "article = Article(url)"
   ]
  },
  {
   "cell_type": "code",
   "execution_count": 3,
   "metadata": {},
   "outputs": [],
   "source": [
    "article.download()"
   ]
  },
  {
   "cell_type": "code",
   "execution_count": 4,
   "metadata": {},
   "outputs": [],
   "source": [
    "article.parse()"
   ]
  },
  {
   "cell_type": "code",
   "execution_count": 5,
   "metadata": {},
   "outputs": [
    {
     "data": {
      "text/plain": [
       "'Chris Rock and Steve Martin opened up Sunday night\\'s Oscars by taking jabs at the biggest stars in the building at the Dolby Theatre in Los Angeles, Calif.\\n\\nThe 92nd Academy Awards marks the second year in a row the show had no host. However, Rock and Martin, who have previously hosted film\\'s biggest night, immediately joked that they\\'d received an \"incredible demotion\" by being asked to conduct the opening monologue.\\n\\nRock\\'s first aim was Brad Pitt, as he joked that looking at Pitt, 56, is like \"looking in a mirror!\"\\n\\nADAM SANDLER MOCKS \\'HANDSOME\\' OSCARS NOMINEES IN EXPLETIVE-FILLED SPEECH AT INDEPENDENT SPIRIT AWARDS\\n\\nAmazon founder Jeff Bezos was also a target as the actor and comedian poked fun at his highly-publicized divorce.\\n\\n\"Jeff Bezos is so rich he got divorced and he\\'s still the richest man in the world! He saw \\'Marriage Story\\' and thought it was a comedy,\" Rock cracked before asking if Martin had anything to add about the billionaire being in the building.\\n\\n\"No,\" Martin responded. \"I like getting my packages on time.\"\\n\\nOSCARS 2020: PARTIAL WINNERS LIST\\n\\nMartin then joked that he couldn\\'t wait to see \"The Joker,\" joking that he heard it \"sounds so funny.\"\\n\\nThe funnymen also drew attention to the fact that no female directors were nominated for best director.\\n\\n\"Chris, I thought there was something missing from the list this year,\" Martin said, to which Rock responded, \"Vaginas?\"\\n\\n\\n\\n\"Yeah!\" they both agreed.\\n\\nRICKY GERVAIS SLAMS OSCARS 2020 CELEBRITIES\\' \\'INSPIRATIONAL SPEECHES\\' IN SCATHING TWEETS\\n\\nThe film industry\\'s biggest night also opened with a musical tribute by Janelle Monae. The performer kicked off the show, donning a red sweater as Mister Rogers wore in a nod to \"A Beautiful Day in the Neighborhood.\"\\n\\nShe then shifted into an upbeat number with several dancers wearing attire honoring other nominees. Monae shed the sweater as she sang and danced. The performance also featured an appearance by Billy Porter.\\n\\nPitt took home the first award of the night for best actor in a supporting role for his role in \"Once Upon a Time In Hollywood.\"\\n\\nOSCARS: 9 OF THE MOST MEMORABLE ACADEMY AWARDS OUTFITS\\n\\nPitt got political in his acceptance speech. \"They told me I have 45 seconds to speak, which is 45 seconds more than the Senate gave John Bolton this week,\" the 56-year-old actor said, alluding to the impeachment hearings.\\n\\nAlso kicking off the performances of the night was Idina Menzel of the \"Frozen 2\" hit, \"Into the Unknown.\" Menzel was joined by nine other women who have voiced the role of the film\\'s lead, Elsa, around the world.\\n\\nOSCARS 2020: KELLY RIPA STUNS IN BLACK GOWN, POKES FUN AT PAST RED CARPET LOOK\\n\\nPresenters Diane Keaton and Keanu Reeves, who starred in 2003\\'s \"Something\\'s Gotta Give\" together, shared some laughs before presenting the second award of the night for best screenplay.\\n\\nNodding to their former 2003 movie, Keaton recalled \"lots of laughing, crying\" were had amongst the cast.\\n\\n\"You were jacked!\" Reeves quipped, to which Keaton responded, \"I wouldn\\'t go that far.\"\\n\\nTaking home the best screenplay was Bon Joong Ho and Han Jin-won of \"Parasite.\"\\n\\nOSCARS 2020: SEE THE STARS OUTFITS AT THE ACADEMY AWARDS\\n\\nSpreading laughter in the Dolby Theatre was none other than Kristin Wiig and Maya Rudolph, who presented the back-to-back awards for achievement in production design and achievement in costume design. The two opted to \"not say\" their introduction for costume design, but rather to \"sing it\" with a hilarious medley ranging from Nancy Sinatra\\'s \"These Boots Are Made for Walkin\\'\" to Sisqo\\'s \"Thong Song\" that drew a particularly confused look by 18-year-old Billie Eilish seated in the audience.\\n\\nChrissy Metz stunned in a gorgeous black gown as she belted out the Oscar-nominated song \"I\\'m Standing With You,\" featured in \"Breakthrough.\"\\n\\nBRAD PITT\\'S OSCARS 2020 SPEECH MOCKS SENATORS FOR NOT CALLING JOHN BOLTON TO TESTIFY AT IMPEACHMENT TRIAL\\n\\nTaking home her first-ever Oscar was Laura Dern for best actress in a supporting role in \"Marriage Story.\" The third-time nominee got teary-eyed while thanking her cast and crew before dedicating her golden trophy to her parents.\\n\\n\"Some say you never meet your heroes but I say if you\\'re really blessed you get them as your parents,\" Dern said. \"I share this with my acting heroes, my legends, Diane Ladd and Bruce Dern...You got game! I love you! Thank you for this gift.\"\\n\\nRENÉE ZELLWEGER STUNS AT OSCARS IN ONE-SHOULDER DRESS\\n\\nRapper Eminem stunned A-listers in the room with a surprise performance of \"Lose Yourself\" from 2003\\'s \"8 Mile,\" which scored him an Academy Award for best original song back in 2003. The Detroit native, dressed in all black, got Hollywood\\'s biggest stars on their feet as he received a standing ovation for the performance.\\n\\nTom Hanks hit the stage to reveal The Academy Museum of Motion Pictures is set to open later this year, on Dec. 14.\\n\\nThe award-winning actor then used his announcement to nod to late Hollywood legend Kirk Douglas.\\n\\n\"It\\'s going to be a very big deal! We\\'ll see you there, and I am Spartacus!\" he said, referring to the icon\\'s 1960 film \"Spartacus.\"\\n\\nThe ceremony comes just days after Douglas, one of the last surviving stars of Hollywood’s golden age, passed away. Kobe Bryant, a 2018 Oscar winner for the short “Dear Basketball,\" was also included in the ceremony\\'s In Memoriam segment.\\n\\n“Harriet’s Cynthia Erivo wowed the crowd with an anticipated performance of “Stand Up.\" The English actress was poised to be the youngest ever to reach EGOT status -- the achievement of winning an Emmy, Oscar and Tony Award -- if she took home an award for the film Sunday night. She was nominated for best actress and best original song.\\n\\nRebel Wilson and James Corden used the opportunity to present the award for best visual effects by slamming the monumental flop of \"Cats.\"\\n\\n\"As cast members of the motion picture \\'Cats,\\' nobody like us understands the importance of good visual effects,\" the two cracked as the audience roared with laughter.\\n\\nThe Dolby Theatre lit up with colors as Sir Elton John, in his signature bright purple suit, commanded the stage with a performance of “(I’m Gonna) Love Me Again” from the film “Rocketman.\"\\n\\nTOP OSCAR PERFORMANCES, FROM BRADLEY COOPER AND LADY GAGA TO BEYONCE\\n\\nShortly after, John and Bernie Taupin\\'s hit from \"Rocketman\" won the academy award for best original song. The honor served as Taupin\\'s first-ever Oscar win.\\n\\n\"Being here with this guy, I don\\'t have words for it,\" Taupin said of John, adding, \"This is justification for 53 years of just hammering it out and just doing what we do. Thank you all.\"\\n\\nJohn voiced similar sentiments, thanking Taupin for being \"the constant thing in my life when I was screwed up, when I was normal.\"\\n\\nWhile this year\\'s awards have been criticized for a lack of females having been nominated for best director, Alexandre Desplat made history as the award ceremony\\'s first-ever female orchestra conductor for her performance of \"Little Women.\"\\n\\nJoon-ho also returned to the stage with a monumental win for best director. The South Korean filmmaker moved Martin Scorcese, seated in the crowd, by sharing a quote from the film legend and admitting to studying him in college.\\n\\nEilish then took the stage for an emotional In Memorium performance, just two weeks after she made history at the Grammy Awards as the youngest artist ever to win album of the year.\\n\\nRICKY GERVAIS SLAMS OSCARS 2020 CELEBRITIES\\' \\'INSPIRATIONAL SPEECHES\\' IN SCATHING TWEETS\\n\\nCLICK HERE TO GET THE FOX NEWS APP\\n\\nDelivering an emotional performance of the Beatles\\' \"Yesterday,\" the segment included tributes to the Hollywood icons lost in the last year, beginning with a shot of late NBA legend Bryant and ending with a smiling photo of beloved Kirk Douglas.\\n\\nBig winners of the night include Joaquin Phoenix, who took home the award for best actor in a leading role for his performance as the \"Joker\" and Renee Zellweger for best actress in a leading role for \"Judy.\"\\n\\nPhoenix delivered an emotional speech in which he stressed the need for \"love and compassion\" as opposed to peddling criticism of gender, equality, queer, animal and indigenous rights.\\n\\nAfter a six-year hiatus from acting, Zellweger reminded the crowd of Garland\\'s legacy and defined her as a hero.\\n\\nRENÉE ZELLWEGER STUNS AT OSCARS IN ONE-SHOULDER DRESS\\n\\n\"I\\'m certain this moment is an extension of the celebration of her legacy that began on our film set and is also representative of her legacy of unique exceptionalism, inclusivity, and generosity of spirit. It transcends any one artistic achievement.\" she said.\\n\\nZellweger continued: \"Ms. Garland, you were certainly among the heroes who unite and define us and this is certainly for you.\"\\n\\nOSCARS 2020: EXES BRADLEY COOPER, RENEE ZELLWEGER REUNITE\\n\\nThe 92nd Academy Awards wrapped with \"Parasite\" taking home the big win for best picture. The film won a total of four Oscars and made history as the first non-English language film to take home best picture.\\n\\n\"Parasite\" producer Kwak Sin Ae admitted she was \"speechless\" as she took the mic.\\n\\n\"We never imagined this to ever happen. We are so happy. I feel like a very opportune moment in history is happening right now,\" Ae said to the audience.\\n\\nOSCARS 2020: BARACK AND MICHELLE OBAMA REACT TO THEIR PRODUCTION COMPANY\\'S WIN FOR \\'AMERICAN FACTORY\\'\\n\\nThe \"Parasite\" cast shared hugs and laughter as the lights dimmed for a moment before Miky Lee took the stage to thank director Joon-Ho.\\n\\n\"I like everything about him -- his smile, his crazy hair, the way he talks, the way he walks, and especially the way he directs,\" she laughed to the crowd, adding that it wouldn\\'t have been possible for the South Korean film to score big at the film industry\\'s historic nights without their loyal viewers back home.\\n\\n\"I really, really, really want to thank our Korean film audience, our moviegoers who have been really supporting all of our movies and never hesitated to give a straight-forward opinion on what they feel,\" she said. \"That made us really never be able to be complacent...Without you, our Korean film audience, we are not here.\"\\n\\nABC and the academy will be hoping a widely watched field of nominees — including the $1 billion-grossing “Joker,” up for a leading 11 awards — will help viewership. Last year’s show garnered 29.6 million viewers, a 12 percent uptick.\\n\\nThis year’s Oscars comes amid a streaming overhaul throughout Hollywood. Hurrying to catch up to Netflix and Amazon, most of the major studios are prepping or have already launched their own streaming services, as have new entrants like Apple. Netflix went into the Oscars with a leading 24 nominations thanks to “The Irishman,” “Marriage Story,” “The Two Popes” and its “American Factory\" took home best documentary feature.\\n\\nCLICK HERE TO GET THE FOX NEWS APP\\n\\nThe Associated Press contributed to this report.'"
      ]
     },
     "execution_count": 5,
     "metadata": {},
     "output_type": "execute_result"
    }
   ],
   "source": [
    "article.text"
   ]
  },
  {
   "cell_type": "code",
   "execution_count": 6,
   "metadata": {},
   "outputs": [],
   "source": [
    "article.nlp()"
   ]
  },
  {
   "cell_type": "code",
   "execution_count": 7,
   "metadata": {},
   "outputs": [
    {
     "data": {
      "text/plain": [
       "['night',\n",
       " 'rock',\n",
       " 'film',\n",
       " 'award',\n",
       " 'parasite',\n",
       " 'took',\n",
       " 'steve',\n",
       " 'awards',\n",
       " 'best',\n",
       " 'academy',\n",
       " '2020',\n",
       " 'oscars',\n",
       " 'makes',\n",
       " 'hollywoods',\n",
       " 'performance',\n",
       " 'martin',\n",
       " 'stars',\n",
       " 'jabs',\n",
       " 'open']"
      ]
     },
     "execution_count": 7,
     "metadata": {},
     "output_type": "execute_result"
    }
   ],
   "source": [
    "article.keywords"
   ]
  },
  {
   "cell_type": "code",
   "execution_count": 8,
   "metadata": {},
   "outputs": [
    {
     "data": {
      "text/plain": [
       "'The 92nd Academy Awards marks the second year in a row the show had no host.\\nOSCARS 2020: PARTIAL WINNERS LISTMartin then joked that he couldn\\'t wait to see \"The Joker,\" joking that he heard it \"sounds so funny.\"\\nRICKY GERVAIS SLAMS OSCARS 2020 CELEBRITIES\\' \\'INSPIRATIONAL SPEECHES\\' IN SCATHING TWEETSThe film industry\\'s biggest night also opened with a musical tribute by Janelle Monae.\\nOSCARS: 9 OF THE MOST MEMORABLE ACADEMY AWARDS OUTFITSPitt got political in his acceptance speech.\\nOSCARS 2020: EXES BRADLEY COOPER, RENEE ZELLWEGER REUNITEThe 92nd Academy Awards wrapped with \"Parasite\" taking home the big win for best picture.'"
      ]
     },
     "execution_count": 8,
     "metadata": {},
     "output_type": "execute_result"
    }
   ],
   "source": [
    "article.summary"
   ]
  }
 ],
 "metadata": {
  "kernelspec": {
   "display_name": "Python 3",
   "language": "python",
   "name": "python3"
  },
  "language_info": {
   "codemirror_mode": {
    "name": "ipython",
    "version": 3
   },
   "file_extension": ".py",
   "mimetype": "text/x-python",
   "name": "python",
   "nbconvert_exporter": "python",
   "pygments_lexer": "ipython3",
   "version": "3.6.10"
  }
 },
 "nbformat": 4,
 "nbformat_minor": 4
}
