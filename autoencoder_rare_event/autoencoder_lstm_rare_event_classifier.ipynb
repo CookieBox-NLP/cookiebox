{
 "cells": [
  {
   "cell_type": "code",
   "execution_count": 1,
   "metadata": {},
   "outputs": [],
   "source": [
    "%matplotlib inline\n",
    "import matplotlib.pyplot as plt\n",
    "import seaborn as sns\n",
    "\n",
    "import pandas as pd\n",
    "import numpy as np\n",
    "from pylab import rcParams\n",
    "\n",
    "import tensorflow as tf\n",
    "from tensorflow.keras import optimizers, Sequential\n",
    "from tensorflow.keras.models import Model\n",
    "from tensorflow.keras.utils import plot_model\n",
    "from tensorflow.keras.layers import Dense, LSTM, RepeatVector, TimeDistributed\n",
    "from tensorflow.keras.callbacks import ModelCheckpoint, TensorBoard\n",
    "from tensorflow.keras.preprocessing.sequence import TimeseriesGenerator\n",
    "\n",
    "from sklearn.preprocessing import StandardScaler\n",
    "from sklearn.model_selection import train_test_split\n",
    "from sklearn.metrics import confusion_matrix, precision_recall_curve\n",
    "from sklearn.metrics import recall_score, classification_report, auc, roc_curve\n",
    "from sklearn.metrics import precision_recall_fscore_support, f1_score\n",
    "\n",
    "from numpy.random import seed\n",
    "seed(7)\n",
    "tf.random.set_seed(2)\n",
    "from sklearn.model_selection import train_test_split\n",
    "\n",
    "SEED = 123\n",
    "DATA_SPLIT_PCT = 0.2\n",
    "\n",
    "rcParams['figure.figsize'] = 8, 6\n",
    "LABELS = [\"Normal\",\"Break\"]"
   ]
  },
  {
   "cell_type": "code",
   "execution_count": 2,
   "metadata": {},
   "outputs": [],
   "source": [
    "df = pd.read_csv(\"rare_event_data.csv\") "
   ]
  },
  {
   "cell_type": "code",
   "execution_count": 3,
   "metadata": {},
   "outputs": [],
   "source": [
    "sign = lambda x: (1, -1)[x < 0]\n",
    "\n",
    "def curve_shift(df, shift_by):\n",
    "    vector = df['y'].copy()\n",
    "    for s in range(abs(shift_by)):\n",
    "        tmp = vector.shift(sign(shift_by))\n",
    "        tmp = tmp.fillna(0)\n",
    "        vector += tmp\n",
    "    labelcol = 'y'\n",
    "    df.insert(loc=0, column=labelcol+'tmp', value=vector)\n",
    "    df = df.drop(df[df[labelcol] == 1].index)\n",
    "    df = df.drop(labelcol, axis=1)\n",
    "    df = df.rename(columns={labelcol+'tmp': labelcol})\n",
    "    df.loc[df[labelcol] > 0, labelcol] = 1\n",
    "    return df"
   ]
  },
  {
   "cell_type": "code",
   "execution_count": 4,
   "metadata": {},
   "outputs": [],
   "source": [
    "def flatten(X):\n",
    "    flattened_X = np.empty((X.shape[0], X.shape[2]))  # sample x features array.\n",
    "    for i in range(X.shape[0]):\n",
    "        flattened_X[i] = X[i, (X.shape[1]-1), :]\n",
    "    return(flattened_X)"
   ]
  },
  {
   "cell_type": "code",
   "execution_count": 5,
   "metadata": {},
   "outputs": [],
   "source": [
    "def scale(X, scaler):\n",
    "    for i in range(X.shape[0]):\n",
    "        X[i, :, :] = scaler.transform(X[i, :, :])    \n",
    "    return X"
   ]
  },
  {
   "cell_type": "code",
   "execution_count": 6,
   "metadata": {},
   "outputs": [],
   "source": [
    "df = curve_shift(df, shift_by = -2)"
   ]
  },
  {
   "cell_type": "code",
   "execution_count": 7,
   "metadata": {},
   "outputs": [],
   "source": [
    "df = df.drop(['time', 'x28', 'x61'], axis=1)"
   ]
  },
  {
   "cell_type": "code",
   "execution_count": 8,
   "metadata": {},
   "outputs": [],
   "source": [
    "input_X = df.loc[:, df.columns != 'y'].values\n",
    "input_y = df['y'].values\n",
    "\n",
    "n_features = input_X.shape[1]"
   ]
  },
  {
   "cell_type": "code",
   "execution_count": 9,
   "metadata": {},
   "outputs": [],
   "source": [
    "def temporalize(X, y, lookback):\n",
    "    output_X = []\n",
    "    output_y = []\n",
    "    for i in range(len(X)-lookback-1):\n",
    "        t = []\n",
    "        for j in range(1,lookback+1):\n",
    "            t.append(X[[(i+j+1)], :])\n",
    "        output_X.append(t)\n",
    "        output_y.append(y[i+lookback+1])\n",
    "    return output_X, output_y"
   ]
  },
  {
   "cell_type": "code",
   "execution_count": 10,
   "metadata": {},
   "outputs": [],
   "source": [
    "lookback = 5\n",
    "X, y = temporalize(X = input_X, y = input_y, lookback = lookback)"
   ]
  },
  {
   "cell_type": "code",
   "execution_count": 11,
   "metadata": {},
   "outputs": [],
   "source": [
    "X_train, X_test, y_train, y_test = train_test_split(np.array(X), np.array(y), test_size=DATA_SPLIT_PCT, random_state=SEED)\n",
    "X_train, X_valid, y_train, y_valid = train_test_split(X_train, y_train, test_size=DATA_SPLIT_PCT, random_state=SEED)"
   ]
  },
  {
   "cell_type": "code",
   "execution_count": 12,
   "metadata": {},
   "outputs": [],
   "source": [
    "X_train_y0 = X_train[y_train==0]\n",
    "X_train_y1 = X_train[y_train==1]\n",
    "\n",
    "X_valid_y0 = X_valid[y_valid==0]\n",
    "X_valid_y1 = X_valid[y_valid==1]"
   ]
  },
  {
   "cell_type": "code",
   "execution_count": 13,
   "metadata": {},
   "outputs": [],
   "source": [
    "X_train = X_train.reshape(X_train.shape[0], lookback, n_features)\n",
    "X_train_y0 = X_train_y0.reshape(X_train_y0.shape[0], lookback, n_features)\n",
    "X_train_y1 = X_train_y1.reshape(X_train_y1.shape[0], lookback, n_features)\n",
    "\n",
    "X_test = X_test.reshape(X_test.shape[0], lookback, n_features)\n",
    "\n",
    "X_valid = X_valid.reshape(X_valid.shape[0], lookback, n_features)\n",
    "X_valid_y0 = X_valid_y0.reshape(X_valid_y0.shape[0], lookback, n_features)\n",
    "X_valid_y1 = X_valid_y1.reshape(X_valid_y1.shape[0], lookback, n_features)"
   ]
  },
  {
   "cell_type": "code",
   "execution_count": 14,
   "metadata": {},
   "outputs": [],
   "source": [
    "scaler = StandardScaler().fit(flatten(X_train_y0))"
   ]
  },
  {
   "cell_type": "code",
   "execution_count": 15,
   "metadata": {},
   "outputs": [],
   "source": [
    "X_train_y0_scaled = scale(X_train_y0, scaler)\n",
    "X_train_y1_scaled = scale(X_train_y1, scaler)\n",
    "X_train_scaled = scale(X_train, scaler)"
   ]
  },
  {
   "cell_type": "code",
   "execution_count": 16,
   "metadata": {},
   "outputs": [],
   "source": [
    "X_valid_scaled = scale(X_valid, scaler)\n",
    "X_valid_y0_scaled = scale(X_valid_y0, scaler)\n",
    "\n",
    "X_test_scaled = scale(X_test, scaler)"
   ]
  },
  {
   "cell_type": "code",
   "execution_count": 17,
   "metadata": {},
   "outputs": [],
   "source": [
    "timesteps =  X_train_y0_scaled.shape[1]\n",
    "n_features =  X_train_y0_scaled.shape[2]\n",
    "\n",
    "epochs = 200\n",
    "batch = 64\n",
    "lr = 0.0001"
   ]
  },
  {
   "cell_type": "code",
   "execution_count": 18,
   "metadata": {},
   "outputs": [],
   "source": [
    "lstm_autoencoder = Sequential()\n",
    "\n",
    "lstm_autoencoder.add(LSTM(32, activation='relu', input_shape=(timesteps, n_features), return_sequences=True))\n",
    "lstm_autoencoder.add(LSTM(16, activation='relu', return_sequences=False))\n",
    "lstm_autoencoder.add(RepeatVector(timesteps))"
   ]
  },
  {
   "cell_type": "code",
   "execution_count": 19,
   "metadata": {},
   "outputs": [],
   "source": [
    "lstm_autoencoder.add(LSTM(16, activation='relu', return_sequences=True))\n",
    "lstm_autoencoder.add(LSTM(32, activation='relu', return_sequences=True))\n",
    "lstm_autoencoder.add(TimeDistributed(Dense(n_features)))"
   ]
  },
  {
   "cell_type": "code",
   "execution_count": 20,
   "metadata": {},
   "outputs": [],
   "source": [
    "adam = optimizers.Adam(lr)\n",
    "lstm_autoencoder.compile(loss='mse', optimizer=adam)"
   ]
  },
  {
   "cell_type": "code",
   "execution_count": 21,
   "metadata": {},
   "outputs": [],
   "source": [
    "cp = ModelCheckpoint(filepath=\"lstm_autoencoder_classifier.h5\",\n",
    "                               save_best_only=True,\n",
    "                               verbose=0)"
   ]
  },
  {
   "cell_type": "code",
   "execution_count": 22,
   "metadata": {},
   "outputs": [],
   "source": [
    "tb = TensorBoard(log_dir='logs',\n",
    "                histogram_freq=0,\n",
    "                write_graph=True,\n",
    "                write_images=True)"
   ]
  },
  {
   "cell_type": "code",
   "execution_count": 23,
   "metadata": {
    "scrolled": true
   },
   "outputs": [
    {
     "name": "stdout",
     "output_type": "stream",
     "text": [
      "Train on 11536 samples, validate on 2880 samples\n",
      "Epoch 1/200\n",
      "11536/11536 [==============================] - 11s 995us/sample - loss: 0.9910 - val_loss: 1.0024\n",
      "Epoch 2/200\n",
      "11536/11536 [==============================] - 5s 455us/sample - loss: 0.9003 - val_loss: 0.8493\n",
      "Epoch 3/200\n",
      "11536/11536 [==============================] - 6s 480us/sample - loss: 0.7686 - val_loss: 0.7166\n",
      "Epoch 4/200\n",
      "11536/11536 [==============================] - 5s 399us/sample - loss: 0.6651 - val_loss: 0.6205\n",
      "Epoch 5/200\n",
      "11536/11536 [==============================] - 5s 399us/sample - loss: 0.5894 - val_loss: 0.5543\n",
      "Epoch 6/200\n",
      "11536/11536 [==============================] - 5s 438us/sample - loss: 0.5378 - val_loss: 0.5108\n",
      "Epoch 7/200\n",
      "11536/11536 [==============================] - 5s 446us/sample - loss: 0.5009 - val_loss: 0.4793\n",
      "Epoch 8/200\n",
      "11536/11536 [==============================] - 5s 450us/sample - loss: 0.4725 - val_loss: 0.4537\n",
      "Epoch 9/200\n",
      "11536/11536 [==============================] - 5s 404us/sample - loss: 0.4484 - val_loss: 0.4302\n",
      "Epoch 10/200\n",
      "11536/11536 [==============================] - 5s 391us/sample - loss: 0.4263 - val_loss: 0.4094\n",
      "Epoch 11/200\n",
      "11536/11536 [==============================] - 5s 466us/sample - loss: 0.4068 - val_loss: 0.3962\n",
      "Epoch 12/200\n",
      "11536/11536 [==============================] - 5s 403us/sample - loss: 0.3898 - val_loss: 0.3759\n",
      "Epoch 13/200\n",
      "11536/11536 [==============================] - 5s 472us/sample - loss: 0.3747 - val_loss: 0.3628\n",
      "Epoch 14/200\n",
      "11536/11536 [==============================] - 4s 381us/sample - loss: 0.3622 - val_loss: 0.3517\n",
      "Epoch 15/200\n",
      "11536/11536 [==============================] - 4s 381us/sample - loss: 0.3510 - val_loss: 0.3419\n",
      "Epoch 16/200\n",
      "11536/11536 [==============================] - 4s 376us/sample - loss: 0.3412 - val_loss: 0.3328\n",
      "Epoch 17/200\n",
      "11536/11536 [==============================] - 4s 385us/sample - loss: 0.3319 - val_loss: 0.3241\n",
      "Epoch 18/200\n",
      "11536/11536 [==============================] - 4s 381us/sample - loss: 0.3236 - val_loss: 0.3166\n",
      "Epoch 19/200\n",
      "11536/11536 [==============================] - 4s 376us/sample - loss: 0.3160 - val_loss: 0.3096\n",
      "Epoch 20/200\n",
      "11536/11536 [==============================] - 4s 380us/sample - loss: 0.3090 - val_loss: 0.3028\n",
      "Epoch 21/200\n",
      "11536/11536 [==============================] - 4s 380us/sample - loss: 0.3023 - val_loss: 0.2981\n",
      "Epoch 22/200\n",
      "11536/11536 [==============================] - 4s 382us/sample - loss: 0.2963 - val_loss: 0.2917\n",
      "Epoch 23/200\n",
      "11536/11536 [==============================] - 4s 379us/sample - loss: 0.2905 - val_loss: 0.2861\n",
      "Epoch 24/200\n",
      "11536/11536 [==============================] - 4s 384us/sample - loss: 0.2851 - val_loss: 0.2810\n",
      "Epoch 25/200\n",
      "11536/11536 [==============================] - 4s 379us/sample - loss: 0.2809 - val_loss: 0.2770\n",
      "Epoch 26/200\n",
      "11536/11536 [==============================] - 4s 378us/sample - loss: 0.2763 - val_loss: 0.2729\n",
      "Epoch 27/200\n",
      "11536/11536 [==============================] - 5s 405us/sample - loss: 0.2721 - val_loss: 0.2690\n",
      "Epoch 28/200\n",
      "11536/11536 [==============================] - 5s 454us/sample - loss: 0.2684 - val_loss: 0.2662\n",
      "Epoch 29/200\n",
      "11536/11536 [==============================] - 5s 442us/sample - loss: 0.2652 - val_loss: 0.2622\n",
      "Epoch 30/200\n",
      "11536/11536 [==============================] - 7s 585us/sample - loss: 0.2619 - val_loss: 0.2593\n",
      "Epoch 31/200\n",
      "11536/11536 [==============================] - 4s 380us/sample - loss: 0.2591 - val_loss: 0.2563\n",
      "Epoch 32/200\n",
      "11536/11536 [==============================] - 4s 389us/sample - loss: 0.2561 - val_loss: 0.2543\n",
      "Epoch 33/200\n",
      "11536/11536 [==============================] - 6s 478us/sample - loss: 0.2534 - val_loss: 0.2513\n",
      "Epoch 34/200\n",
      "11536/11536 [==============================] - 5s 399us/sample - loss: 0.2509 - val_loss: 0.2499\n",
      "Epoch 35/200\n",
      "11536/11536 [==============================] - 5s 396us/sample - loss: 0.2486 - val_loss: 0.2472\n",
      "Epoch 36/200\n",
      "11536/11536 [==============================] - 5s 395us/sample - loss: 0.2465 - val_loss: 0.2450\n",
      "Epoch 37/200\n",
      "11536/11536 [==============================] - 4s 378us/sample - loss: 0.2444 - val_loss: 0.2454\n",
      "Epoch 38/200\n",
      "11536/11536 [==============================] - 4s 384us/sample - loss: 0.2421 - val_loss: 0.2411\n",
      "Epoch 39/200\n",
      "11536/11536 [==============================] - 4s 384us/sample - loss: 0.2401 - val_loss: 0.2388\n",
      "Epoch 40/200\n",
      "11536/11536 [==============================] - 5s 437us/sample - loss: 0.2383 - val_loss: 0.2378\n",
      "Epoch 41/200\n",
      "11536/11536 [==============================] - 4s 375us/sample - loss: 0.2365 - val_loss: 0.2359\n",
      "Epoch 42/200\n",
      "11536/11536 [==============================] - 6s 501us/sample - loss: 0.2347 - val_loss: 0.2342\n",
      "Epoch 43/200\n",
      "11536/11536 [==============================] - 4s 387us/sample - loss: 0.2333 - val_loss: 0.2357\n",
      "Epoch 44/200\n",
      "11536/11536 [==============================] - 4s 377us/sample - loss: 0.2317 - val_loss: 0.2324\n",
      "Epoch 45/200\n",
      "11536/11536 [==============================] - 7s 566us/sample - loss: 0.2301 - val_loss: 0.2316\n",
      "Epoch 46/200\n",
      "11536/11536 [==============================] - 4s 378us/sample - loss: 0.2283 - val_loss: 0.2293\n",
      "Epoch 47/200\n",
      "11536/11536 [==============================] - 4s 385us/sample - loss: 0.2270 - val_loss: 0.2283\n",
      "Epoch 48/200\n",
      "11536/11536 [==============================] - 5s 466us/sample - loss: 0.2256 - val_loss: 0.2264\n",
      "Epoch 49/200\n",
      "11536/11536 [==============================] - 6s 497us/sample - loss: 0.2243 - val_loss: 0.2266\n",
      "Epoch 50/200\n",
      "11536/11536 [==============================] - 5s 457us/sample - loss: 0.2228 - val_loss: 0.2246\n",
      "Epoch 51/200\n",
      "11536/11536 [==============================] - 5s 464us/sample - loss: 0.2215 - val_loss: 0.2213\n",
      "Epoch 52/200\n",
      "11536/11536 [==============================] - 4s 390us/sample - loss: 0.2203 - val_loss: 0.2219\n",
      "Epoch 53/200\n",
      "11536/11536 [==============================] - 4s 382us/sample - loss: 0.2191 - val_loss: 0.2202\n",
      "Epoch 54/200\n",
      "11536/11536 [==============================] - 4s 381us/sample - loss: 0.2180 - val_loss: 0.2224\n",
      "Epoch 55/200\n",
      "11536/11536 [==============================] - 4s 382us/sample - loss: 0.2168 - val_loss: 0.2201\n",
      "Epoch 56/200\n",
      "11536/11536 [==============================] - 4s 384us/sample - loss: 0.2155 - val_loss: 0.2240\n",
      "Epoch 57/200\n",
      "11536/11536 [==============================] - 4s 381us/sample - loss: 0.2146 - val_loss: 0.2170\n",
      "Epoch 58/200\n",
      "11536/11536 [==============================] - 4s 381us/sample - loss: 0.2131 - val_loss: 0.2164\n",
      "Epoch 59/200\n",
      "11536/11536 [==============================] - 4s 377us/sample - loss: 0.2120 - val_loss: 0.2152\n",
      "Epoch 60/200\n",
      "11536/11536 [==============================] - 4s 382us/sample - loss: 0.2108 - val_loss: 0.2140\n",
      "Epoch 61/200\n",
      "11536/11536 [==============================] - 4s 378us/sample - loss: 0.2097 - val_loss: 0.2139\n",
      "Epoch 62/200\n",
      "11536/11536 [==============================] - 4s 382us/sample - loss: 0.2086 - val_loss: 0.2128\n",
      "Epoch 63/200\n",
      "11536/11536 [==============================] - 4s 381us/sample - loss: 0.2078 - val_loss: 0.2115\n",
      "Epoch 64/200\n",
      "11536/11536 [==============================] - 4s 383us/sample - loss: 0.2069 - val_loss: 0.2150\n",
      "Epoch 65/200\n",
      "11536/11536 [==============================] - 4s 377us/sample - loss: 0.2059 - val_loss: 0.2129\n",
      "Epoch 66/200\n",
      "11536/11536 [==============================] - 4s 378us/sample - loss: 0.2046 - val_loss: 0.2108\n",
      "Epoch 67/200\n",
      "11536/11536 [==============================] - 4s 379us/sample - loss: 0.2035 - val_loss: 0.2115\n",
      "Epoch 68/200\n",
      "11536/11536 [==============================] - 4s 381us/sample - loss: 0.2029 - val_loss: 0.2086\n",
      "Epoch 69/200\n",
      "11536/11536 [==============================] - 4s 377us/sample - loss: 0.2018 - val_loss: 0.2077E - ETA: 0s - loss: 0.20\n",
      "Epoch 70/200\n",
      "11536/11536 [==============================] - 4s 378us/sample - loss: 0.2010 - val_loss: 0.2083\n",
      "Epoch 71/200\n",
      "11536/11536 [==============================] - 4s 375us/sample - loss: 0.2002 - val_loss: 0.2072\n",
      "Epoch 72/200\n",
      "11536/11536 [==============================] - 4s 382us/sample - loss: 0.1993 - val_loss: 0.2051\n",
      "Epoch 73/200\n",
      "11536/11536 [==============================] - 4s 382us/sample - loss: 0.1982 - val_loss: 0.2052\n",
      "Epoch 74/200\n",
      "11536/11536 [==============================] - 4s 377us/sample - loss: 0.1974 - val_loss: 0.2088\n"
     ]
    },
    {
     "name": "stdout",
     "output_type": "stream",
     "text": [
      "Epoch 75/200\n",
      "11536/11536 [==============================] - 4s 376us/sample - loss: 0.1967 - val_loss: 0.2078\n",
      "Epoch 76/200\n",
      "11536/11536 [==============================] - 4s 372us/sample - loss: 0.1957 - val_loss: 0.2030\n",
      "Epoch 77/200\n",
      "11536/11536 [==============================] - 4s 370us/sample - loss: 0.1951 - val_loss: 0.2024\n",
      "Epoch 78/200\n",
      "11536/11536 [==============================] - 4s 372us/sample - loss: 0.1943 - val_loss: 0.2003\n",
      "Epoch 79/200\n",
      "11536/11536 [==============================] - 4s 369us/sample - loss: 0.1935 - val_loss: 0.2059\n",
      "Epoch 80/200\n",
      "11536/11536 [==============================] - 4s 390us/sample - loss: 0.1928 - val_loss: 0.1993\n",
      "Epoch 81/200\n",
      "11536/11536 [==============================] - 4s 387us/sample - loss: 0.1918 - val_loss: 0.2044\n",
      "Epoch 82/200\n",
      "11536/11536 [==============================] - 4s 373us/sample - loss: 0.1914 - val_loss: 0.2005s: 0.19 - ETA: 0s - loss: 0.1\n",
      "Epoch 83/200\n",
      "11536/11536 [==============================] - 4s 373us/sample - loss: 0.1905 - val_loss: 0.2016\n",
      "Epoch 84/200\n",
      "11536/11536 [==============================] - 4s 372us/sample - loss: 0.1898 - val_loss: 0.1980\n",
      "Epoch 85/200\n",
      "11536/11536 [==============================] - 4s 376us/sample - loss: 0.1892 - val_loss: 0.2026\n",
      "Epoch 86/200\n",
      "11536/11536 [==============================] - 4s 372us/sample - loss: 0.1890 - val_loss: 0.1965\n",
      "Epoch 87/200\n",
      "11536/11536 [==============================] - 4s 370us/sample - loss: 0.1877 - val_loss: 0.1964\n",
      "Epoch 88/200\n",
      "11536/11536 [==============================] - 4s 367us/sample - loss: 0.1872 - val_loss: 0.1949\n",
      "Epoch 89/200\n",
      "11536/11536 [==============================] - 4s 373us/sample - loss: 0.1866 - val_loss: 0.1942\n",
      "Epoch 90/200\n",
      "11536/11536 [==============================] - 4s 371us/sample - loss: 0.1860 - val_loss: 0.1964\n",
      "Epoch 91/200\n",
      "11536/11536 [==============================] - 4s 368us/sample - loss: 0.1855 - val_loss: 0.1932\n",
      "Epoch 92/200\n",
      "11536/11536 [==============================] - 4s 374us/sample - loss: 0.1845 - val_loss: 0.1962\n",
      "Epoch 93/200\n",
      "11536/11536 [==============================] - 4s 369us/sample - loss: 0.1840 - val_loss: 0.1920\n",
      "Epoch 94/200\n",
      "11536/11536 [==============================] - 4s 371us/sample - loss: 0.1834 - val_loss: 0.1933\n",
      "Epoch 95/200\n",
      "11536/11536 [==============================] - 4s 368us/sample - loss: 0.1828 - val_loss: 0.2043\n",
      "Epoch 96/200\n",
      "11536/11536 [==============================] - 4s 370us/sample - loss: 0.1826 - val_loss: 0.1922\n",
      "Epoch 97/200\n",
      "11536/11536 [==============================] - 4s 372us/sample - loss: 0.1818 - val_loss: 0.1946\n",
      "Epoch 98/200\n",
      "11536/11536 [==============================] - 4s 378us/sample - loss: 0.1815 - val_loss: 0.1930\n",
      "Epoch 99/200\n",
      "11536/11536 [==============================] - 4s 376us/sample - loss: 0.1821 - val_loss: 0.1912\n",
      "Epoch 100/200\n",
      "11536/11536 [==============================] - 4s 377us/sample - loss: 0.1801 - val_loss: 0.1885\n",
      "Epoch 101/200\n",
      "11536/11536 [==============================] - 4s 370us/sample - loss: 0.1796 - val_loss: 0.1894\n",
      "Epoch 102/200\n",
      "11536/11536 [==============================] - 4s 368us/sample - loss: 0.1790 - val_loss: 0.1974\n",
      "Epoch 103/200\n",
      "11536/11536 [==============================] - 4s 378us/sample - loss: 0.1783 - val_loss: 0.1936\n",
      "Epoch 104/200\n",
      "11536/11536 [==============================] - 4s 371us/sample - loss: 0.1781 - val_loss: 0.1902\n",
      "Epoch 105/200\n",
      "11536/11536 [==============================] - 4s 366us/sample - loss: 0.1772 - val_loss: 0.1870\n",
      "Epoch 106/200\n",
      "11536/11536 [==============================] - 4s 389us/sample - loss: 0.1767 - val_loss: 0.1864\n",
      "Epoch 107/200\n",
      "11536/11536 [==============================] - 4s 385us/sample - loss: 0.1762 - val_loss: 0.1869\n",
      "Epoch 108/200\n",
      "11536/11536 [==============================] - 4s 379us/sample - loss: 0.1757 - val_loss: 0.1874\n",
      "Epoch 109/200\n",
      "11536/11536 [==============================] - 4s 387us/sample - loss: 0.1754 - val_loss: 0.1839\n",
      "Epoch 110/200\n",
      "11536/11536 [==============================] - 4s 373us/sample - loss: 0.1747 - val_loss: 0.1883\n",
      "Epoch 111/200\n",
      "11536/11536 [==============================] - 4s 377us/sample - loss: 0.1746 - val_loss: 0.1876\n",
      "Epoch 112/200\n",
      "11536/11536 [==============================] - 4s 371us/sample - loss: 0.1740 - val_loss: 0.1843\n",
      "Epoch 113/200\n",
      "11536/11536 [==============================] - 4s 378us/sample - loss: 0.1735 - val_loss: 0.1825\n",
      "Epoch 114/200\n",
      "11536/11536 [==============================] - 4s 374us/sample - loss: 0.1732 - val_loss: 0.1842\n",
      "Epoch 115/200\n",
      "11536/11536 [==============================] - 4s 370us/sample - loss: 0.1724 - val_loss: 0.1838\n",
      "Epoch 116/200\n",
      "11536/11536 [==============================] - 4s 371us/sample - loss: 0.1719 - val_loss: 0.1844\n",
      "Epoch 117/200\n",
      "11536/11536 [==============================] - 4s 371us/sample - loss: 0.1715 - val_loss: 0.1806\n",
      "Epoch 118/200\n",
      "11536/11536 [==============================] - 4s 381us/sample - loss: 0.1710 - val_loss: 0.1802\n",
      "Epoch 119/200\n",
      "11536/11536 [==============================] - 4s 374us/sample - loss: 0.1707 - val_loss: 0.1831\n",
      "Epoch 120/200\n",
      "11536/11536 [==============================] - 4s 378us/sample - loss: 0.1706 - val_loss: 0.1814\n",
      "Epoch 121/200\n",
      "11536/11536 [==============================] - 4s 374us/sample - loss: 0.1698 - val_loss: 0.1822\n",
      "Epoch 122/200\n",
      "11536/11536 [==============================] - 4s 370us/sample - loss: 0.1692 - val_loss: 0.1781\n",
      "Epoch 123/200\n",
      "11536/11536 [==============================] - 4s 380us/sample - loss: 0.1688 - val_loss: 0.1835\n",
      "Epoch 124/200\n",
      "11536/11536 [==============================] - 4s 378us/sample - loss: 0.1688 - val_loss: 0.1796\n",
      "Epoch 125/200\n",
      "11536/11536 [==============================] - 4s 375us/sample - loss: 0.1682 - val_loss: 0.1795\n",
      "Epoch 126/200\n",
      "11536/11536 [==============================] - 4s 376us/sample - loss: 0.1676 - val_loss: 0.1780\n",
      "Epoch 127/200\n",
      "11536/11536 [==============================] - 4s 374us/sample - loss: 0.1673 - val_loss: 0.1785\n",
      "Epoch 128/200\n",
      "11536/11536 [==============================] - 4s 379us/sample - loss: 0.1668 - val_loss: 0.1771\n",
      "Epoch 129/200\n",
      "11536/11536 [==============================] - 4s 378us/sample - loss: 0.1672 - val_loss: 0.1766\n",
      "Epoch 130/200\n",
      "11536/11536 [==============================] - 5s 407us/sample - loss: 0.1661 - val_loss: 0.1811\n",
      "Epoch 131/200\n",
      "11536/11536 [==============================] - 5s 474us/sample - loss: 0.1660 - val_loss: 0.1791\n",
      "Epoch 132/200\n",
      "11536/11536 [==============================] - 7s 582us/sample - loss: 0.1653 - val_loss: 0.1770\n",
      "Epoch 133/200\n",
      "11536/11536 [==============================] - 5s 397us/sample - loss: 0.1648 - val_loss: 0.1766\n",
      "Epoch 134/200\n",
      "11536/11536 [==============================] - 5s 395us/sample - loss: 0.1649 - val_loss: 0.1765\n",
      "Epoch 135/200\n",
      "11536/11536 [==============================] - 5s 454us/sample - loss: 0.1644 - val_loss: 0.1780\n",
      "Epoch 136/200\n",
      "11536/11536 [==============================] - 6s 529us/sample - loss: 0.1637 - val_loss: 0.1753\n",
      "Epoch 137/200\n",
      "11536/11536 [==============================] - 5s 471us/sample - loss: 0.1638 - val_loss: 0.1809\n",
      "Epoch 138/200\n",
      "11536/11536 [==============================] - 5s 428us/sample - loss: 0.1631 - val_loss: 0.1771\n",
      "Epoch 139/200\n",
      "11536/11536 [==============================] - 5s 404us/sample - loss: 0.1627 - val_loss: 0.1744\n",
      "Epoch 140/200\n",
      "11536/11536 [==============================] - 4s 388us/sample - loss: 0.1624 - val_loss: 0.1729\n",
      "Epoch 141/200\n",
      "11536/11536 [==============================] - 5s 398us/sample - loss: 0.1621 - val_loss: 0.1737\n",
      "Epoch 142/200\n",
      "11536/11536 [==============================] - 5s 393us/sample - loss: 0.1619 - val_loss: 0.1709\n",
      "Epoch 143/200\n",
      "11536/11536 [==============================] - 5s 393us/sample - loss: 0.1614 - val_loss: 0.1724\n",
      "Epoch 144/200\n",
      "11536/11536 [==============================] - 5s 392us/sample - loss: 0.1611 - val_loss: 0.1735\n",
      "Epoch 145/200\n",
      "11536/11536 [==============================] - 4s 387us/sample - loss: 0.1614 - val_loss: 0.1748\n",
      "Epoch 146/200\n",
      "11536/11536 [==============================] - 4s 388us/sample - loss: 0.1605 - val_loss: 0.1740\n",
      "Epoch 147/200\n",
      "11536/11536 [==============================] - 5s 392us/sample - loss: 0.1599 - val_loss: 0.1714\n",
      "Epoch 148/200\n",
      "11536/11536 [==============================] - 5s 432us/sample - loss: 0.1597 - val_loss: 0.1750\n"
     ]
    },
    {
     "name": "stdout",
     "output_type": "stream",
     "text": [
      "Epoch 149/200\n",
      "11536/11536 [==============================] - 4s 385us/sample - loss: 0.1595 - val_loss: 0.1730\n",
      "Epoch 150/200\n",
      "11536/11536 [==============================] - 6s 480us/sample - loss: 0.1590 - val_loss: 0.1730\n",
      "Epoch 151/200\n",
      "11536/11536 [==============================] - 5s 391us/sample - loss: 0.1589 - val_loss: 0.1724\n",
      "Epoch 152/200\n",
      "11536/11536 [==============================] - 4s 381us/sample - loss: 0.1585 - val_loss: 0.1702\n",
      "Epoch 153/200\n",
      "11536/11536 [==============================] - 5s 403us/sample - loss: 0.1588 - val_loss: 0.1721\n",
      "Epoch 154/200\n",
      "11536/11536 [==============================] - 4s 381us/sample - loss: 0.1582 - val_loss: 0.1706\n",
      "Epoch 155/200\n",
      "11536/11536 [==============================] - 5s 391us/sample - loss: 0.1577 - val_loss: 0.1768\n",
      "Epoch 156/200\n",
      "11536/11536 [==============================] - 5s 396us/sample - loss: 0.1573 - val_loss: 0.1721\n",
      "Epoch 157/200\n",
      "11536/11536 [==============================] - 4s 385us/sample - loss: 0.1571 - val_loss: 0.1710\n",
      "Epoch 158/200\n",
      "11536/11536 [==============================] - 4s 382us/sample - loss: 0.1567 - val_loss: 0.1704\n",
      "Epoch 159/200\n",
      "11536/11536 [==============================] - 4s 389us/sample - loss: 0.1563 - val_loss: 0.1697\n",
      "Epoch 160/200\n",
      "11536/11536 [==============================] - 4s 389us/sample - loss: 0.1561 - val_loss: 0.1706\n",
      "Epoch 161/200\n",
      "11536/11536 [==============================] - 5s 427us/sample - loss: 0.1558 - val_loss: 0.1697\n",
      "Epoch 162/200\n",
      "11536/11536 [==============================] - 6s 524us/sample - loss: 0.1555 - val_loss: 0.1716\n",
      "Epoch 163/200\n",
      "11536/11536 [==============================] - 4s 385us/sample - loss: 0.1552 - val_loss: 0.1691\n",
      "Epoch 164/200\n",
      "11536/11536 [==============================] - 5s 393us/sample - loss: 0.1555 - val_loss: 0.1721\n",
      "Epoch 165/200\n",
      "11536/11536 [==============================] - 5s 452us/sample - loss: 0.1549 - val_loss: 0.1743\n",
      "Epoch 166/200\n",
      "11536/11536 [==============================] - 5s 477us/sample - loss: 0.1545 - val_loss: 0.1704\n",
      "Epoch 167/200\n",
      "11536/11536 [==============================] - 6s 562us/sample - loss: 0.1542 - val_loss: 0.1699\n",
      "Epoch 168/200\n",
      "11536/11536 [==============================] - 5s 417us/sample - loss: 0.1538 - val_loss: 0.1681\n",
      "Epoch 169/200\n",
      "11536/11536 [==============================] - 5s 394us/sample - loss: 0.1538 - val_loss: 0.1704\n",
      "Epoch 170/200\n",
      "11536/11536 [==============================] - 4s 388us/sample - loss: 0.1542 - val_loss: 0.1734\n",
      "Epoch 171/200\n",
      "11536/11536 [==============================] - 5s 397us/sample - loss: 0.1532 - val_loss: 0.1677\n",
      "Epoch 172/200\n",
      "11536/11536 [==============================] - 5s 406us/sample - loss: 0.1528 - val_loss: 0.1678\n",
      "Epoch 173/200\n",
      "11536/11536 [==============================] - 5s 396us/sample - loss: 0.1528 - val_loss: 0.1732\n",
      "Epoch 174/200\n",
      "11536/11536 [==============================] - 5s 401us/sample - loss: 0.1527 - val_loss: 0.1670\n",
      "Epoch 175/200\n",
      "11536/11536 [==============================] - 5s 402us/sample - loss: 0.1527 - val_loss: 0.1733\n",
      "Epoch 176/200\n",
      "11536/11536 [==============================] - 5s 393us/sample - loss: 0.1521 - val_loss: 0.1677\n",
      "Epoch 177/200\n",
      "11536/11536 [==============================] - 5s 397us/sample - loss: 0.1520 - val_loss: 0.1666\n",
      "Epoch 178/200\n",
      "11536/11536 [==============================] - 5s 394us/sample - loss: 0.1515 - val_loss: 0.1656\n",
      "Epoch 179/200\n",
      "11536/11536 [==============================] - 5s 392us/sample - loss: 0.1512 - val_loss: 0.1637\n",
      "Epoch 180/200\n",
      "11536/11536 [==============================] - 5s 394us/sample - loss: 0.1511 - val_loss: 0.1634\n",
      "Epoch 181/200\n",
      "11536/11536 [==============================] - 5s 392us/sample - loss: 0.1513 - val_loss: 0.1641\n",
      "Epoch 182/200\n",
      "11536/11536 [==============================] - 5s 395us/sample - loss: 0.1511 - val_loss: 0.1662\n",
      "Epoch 183/200\n",
      "11536/11536 [==============================] - 5s 398us/sample - loss: 0.1505 - val_loss: 0.1724\n",
      "Epoch 184/200\n",
      "11536/11536 [==============================] - 5s 398us/sample - loss: 0.1502 - val_loss: 0.1647\n",
      "Epoch 185/200\n",
      "11536/11536 [==============================] - 6s 499us/sample - loss: 0.1499 - val_loss: 0.1674\n",
      "Epoch 186/200\n",
      "11536/11536 [==============================] - 5s 422us/sample - loss: 0.1499 - val_loss: 0.1682\n",
      "Epoch 187/200\n",
      "11536/11536 [==============================] - 5s 439us/sample - loss: 0.1498 - val_loss: 0.1661\n",
      "Epoch 188/200\n",
      "11536/11536 [==============================] - 7s 613us/sample - loss: 0.1496 - val_loss: 0.1669\n",
      "Epoch 189/200\n",
      "11536/11536 [==============================] - 6s 528us/sample - loss: 0.1492 - val_loss: 0.1686\n",
      "Epoch 190/200\n",
      "11536/11536 [==============================] - 9s 787us/sample - loss: 0.1492 - val_loss: 0.1659\n",
      "Epoch 191/200\n",
      "11536/11536 [==============================] - 5s 416us/sample - loss: 0.1488 - val_loss: 0.1687\n",
      "Epoch 192/200\n",
      "11536/11536 [==============================] - 5s 396us/sample - loss: 0.1487 - val_loss: 0.1644\n",
      "Epoch 193/200\n",
      "11536/11536 [==============================] - 5s 399us/sample - loss: 0.1484 - val_loss: 0.1642\n",
      "Epoch 194/200\n",
      "11536/11536 [==============================] - 5s 398us/sample - loss: 0.1488 - val_loss: 0.1662\n",
      "Epoch 195/200\n",
      "11536/11536 [==============================] - 5s 401us/sample - loss: 0.1482 - val_loss: 0.1650\n",
      "Epoch 196/200\n",
      "11536/11536 [==============================] - 5s 396us/sample - loss: 0.1480 - val_loss: 0.1674\n",
      "Epoch 197/200\n",
      "11536/11536 [==============================] - 5s 394us/sample - loss: 0.1478 - val_loss: 0.1677\n",
      "Epoch 198/200\n",
      "11536/11536 [==============================] - 5s 401us/sample - loss: 0.1473 - val_loss: 0.1661\n",
      "Epoch 199/200\n",
      "11536/11536 [==============================] - 5s 398us/sample - loss: 0.1473 - val_loss: 0.1629\n",
      "Epoch 200/200\n",
      "11536/11536 [==============================] - 5s 396us/sample - loss: 0.1472 - val_loss: 0.1625\n"
     ]
    }
   ],
   "source": [
    "lstm_autoencoder_history = lstm_autoencoder.fit(X_train_y0_scaled, X_train_y0_scaled, \n",
    "                                                epochs=epochs, \n",
    "                                                batch_size=batch, \n",
    "                                                validation_data=(X_valid_y0_scaled, X_valid_y0_scaled),\n",
    "                                                verbose=1).history"
   ]
  },
  {
   "cell_type": "code",
   "execution_count": 24,
   "metadata": {},
   "outputs": [
    {
     "data": {
      "image/png": "[encoded data removed]",
      "text/plain": [
       "<Figure size 576x432 with 1 Axes>"
      ]
     },
     "metadata": {
      "needs_background": "light"
     },
     "output_type": "display_data"
    }
   ],
   "source": [
    "plt.plot(lstm_autoencoder_history['loss'], linewidth=2, label='Train')\n",
    "plt.plot(lstm_autoencoder_history['val_loss'], linewidth=2, label='Valid')\n",
    "plt.legend(loc='upper right')\n",
    "plt.title('Model loss')\n",
    "plt.ylabel('Loss')\n",
    "plt.xlabel('Epoch')\n",
    "plt.show()"
   ]
  },
  {
   "cell_type": "code",
   "execution_count": 25,
   "metadata": {},
   "outputs": [
    {
     "data": {
      "image/png": "[encoded data removed]",
      "text/plain": [
       "<Figure size 576x432 with 1 Axes>"
      ]
     },
     "metadata": {
      "needs_background": "light"
     },
     "output_type": "display_data"
    }
   ],
   "source": [
    "train_x_predictions = lstm_autoencoder.predict(X_train_scaled)\n",
    "mse = np.mean(np.power(flatten(X_train_scaled) - flatten(train_x_predictions), 2), axis=1)\n",
    "\n",
    "error_df = pd.DataFrame({'Reconstruction_error': mse,\n",
    "                        'True_class': y_train.tolist()})\n",
    "\n",
    "groups = error_df.groupby('True_class')\n",
    "fig, ax = plt.subplots()\n",
    "\n",
    "for name, group in groups:\n",
    "    ax.plot(group.index, group.Reconstruction_error, marker='o', ms=3.5, linestyle='',\n",
    "            label= \"Break\" if name == 1 else \"Normal\")\n",
    "ax.legend()\n",
    "plt.title(\"Reconstruction error for different classes\")\n",
    "plt.ylabel(\"Reconstruction error\")\n",
    "plt.xlabel(\"Data point index\")\n",
    "plt.show()"
   ]
  },
  {
   "cell_type": "code",
   "execution_count": 26,
   "metadata": {},
   "outputs": [
    {
     "data": {
      "image/png": "[encoded data removed]",
      "text/plain": [
       "<Figure size 576x432 with 1 Axes>"
      ]
     },
     "metadata": {
      "needs_background": "light"
     },
     "output_type": "display_data"
    }
   ],
   "source": [
    "valid_x_predictions = lstm_autoencoder.predict(X_valid_scaled)\n",
    "mse = np.mean(np.power(flatten(X_valid_scaled) - flatten(valid_x_predictions), 2), axis=1)\n",
    "\n",
    "error_df = pd.DataFrame({'Reconstruction_error': mse,\n",
    "                        'True_class': y_valid.tolist()})\n",
    "\n",
    "precision_rt, recall_rt, threshold_rt = precision_recall_curve(error_df.True_class, error_df.Reconstruction_error)\n",
    "plt.plot(threshold_rt, precision_rt[1:], label=\"Precision\",linewidth=5)\n",
    "plt.plot(threshold_rt, recall_rt[1:], label=\"Recall\",linewidth=5)\n",
    "plt.title('Precision and recall for different threshold values')\n",
    "plt.xlabel('Threshold')\n",
    "plt.ylabel('Precision/Recall')\n",
    "plt.legend()\n",
    "plt.show()"
   ]
  },
  {
   "cell_type": "code",
   "execution_count": 27,
   "metadata": {},
   "outputs": [
    {
     "data": {
      "image/png": "[encoded data removed]",
      "text/plain": [
       "<Figure size 576x432 with 1 Axes>"
      ]
     },
     "metadata": {
      "needs_background": "light"
     },
     "output_type": "display_data"
    }
   ],
   "source": [
    "test_x_predictions = lstm_autoencoder.predict(X_test_scaled)\n",
    "mse = np.mean(np.power(flatten(X_test_scaled) - flatten(test_x_predictions), 2), axis=1)\n",
    "\n",
    "error_df = pd.DataFrame({'Reconstruction_error': mse,\n",
    "                        'True_class': y_test.tolist()})\n",
    "\n",
    "threshold_fixed = 0.3\n",
    "groups = error_df.groupby('True_class')\n",
    "fig, ax = plt.subplots()\n",
    "\n",
    "for name, group in groups:\n",
    "    ax.plot(group.index, group.Reconstruction_error, marker='o', ms=3.5, linestyle='',\n",
    "            label= \"Break\" if name == 1 else \"Normal\")\n",
    "ax.hlines(threshold_fixed, ax.get_xlim()[0], ax.get_xlim()[1], colors=\"r\", zorder=100, label='Threshold')\n",
    "ax.legend()\n",
    "plt.title(\"Reconstruction error for different classes\")\n",
    "plt.ylabel(\"Reconstruction error\")\n",
    "plt.xlabel(\"Data point index\")\n",
    "plt.show()"
   ]
  },
  {
   "cell_type": "code",
   "execution_count": 28,
   "metadata": {},
   "outputs": [
    {
     "data": {
      "image/png": "[encoded data removed]",
      "text/plain": [
       "<Figure size 432x432 with 2 Axes>"
      ]
     },
     "metadata": {
      "needs_background": "light"
     },
     "output_type": "display_data"
    }
   ],
   "source": [
    "pred_y = [1 if e > threshold_fixed else 0 for e in error_df.Reconstruction_error.values]\n",
    "conf_matrix = confusion_matrix(error_df.True_class, pred_y)\n",
    "\n",
    "plt.figure(figsize=(6, 6))\n",
    "sns.heatmap(conf_matrix, xticklabels=LABELS, yticklabels=LABELS, annot=True, fmt=\"d\");\n",
    "plt.title(\"Confusion matrix\")\n",
    "plt.ylabel('True class')\n",
    "plt.xlabel('Predicted class')\n",
    "plt.show()"
   ]
  },
  {
   "cell_type": "code",
   "execution_count": 29,
   "metadata": {},
   "outputs": [
    {
     "data": {
      "image/png": "[encoded data removed]",
      "text/plain": [
       "<Figure size 576x432 with 1 Axes>"
      ]
     },
     "metadata": {
      "needs_background": "light"
     },
     "output_type": "display_data"
    }
   ],
   "source": [
    "false_pos_rate, true_pos_rate, thresholds = roc_curve(error_df.True_class, error_df.Reconstruction_error)\n",
    "roc_auc = auc(false_pos_rate, true_pos_rate,)\n",
    "\n",
    "plt.plot(false_pos_rate, true_pos_rate, linewidth=5, label='AUC = %0.3f'% roc_auc)\n",
    "plt.plot([0,1],[0,1], linewidth=5)\n",
    "\n",
    "plt.xlim([-0.01, 1])\n",
    "plt.ylim([0, 1.01])\n",
    "plt.legend(loc='lower right')\n",
    "plt.title('Receiver operating characteristic curve (ROC)')\n",
    "plt.ylabel('True Positive Rate')\n",
    "plt.xlabel('False Positive Rate')\n",
    "plt.show()"
   ]
  },
  {
   "cell_type": "code",
   "execution_count": null,
   "metadata": {},
   "outputs": [],
   "source": []
  }
 ],
 "metadata": {
  "kernelspec": {
   "display_name": "Python 3",
   "language": "python",
   "name": "python3"
  },
  "language_info": {
   "codemirror_mode": {
    "name": "ipython",
    "version": 3
   },
   "file_extension": ".py",
   "mimetype": "text/x-python",
   "name": "python",
   "nbconvert_exporter": "python",
   "pygments_lexer": "ipython3",
   "version": "3.7.6"
  }
 },
 "nbformat": 4,
 "nbformat_minor": 4
}
