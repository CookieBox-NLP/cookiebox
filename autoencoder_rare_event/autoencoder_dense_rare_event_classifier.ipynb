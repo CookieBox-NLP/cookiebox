{
 "cells": [
  {
   "cell_type": "code",
   "execution_count": 1,
   "metadata": {},
   "outputs": [],
   "source": [
    "%matplotlib inline\n",
    "import matplotlib.pyplot as plt\n",
    "import seaborn as sns\n",
    "import pandas as pd\n",
    "import numpy as np\n",
    "import tensorflow as tf\n",
    "\n",
    "from pylab import rcParams\n",
    "from tensorflow.keras.models import Model, load_model\n",
    "from tensorflow.keras.layers import Input, Dense\n",
    "from tensorflow.keras.callbacks import ModelCheckpoint, TensorBoard\n",
    "from tensorflow.keras import regularizers\n",
    "from sklearn.preprocessing import StandardScaler\n",
    "from sklearn.model_selection import train_test_split\n",
    "from sklearn.metrics import confusion_matrix, precision_recall_curve\n",
    "from sklearn.metrics import recall_score, classification_report, auc, roc_curve\n",
    "from sklearn.metrics import precision_recall_fscore_support, f1_score\n",
    "from numpy.random import seed\n",
    "\n",
    "seed(1)\n",
    "tf.random.set_seed(2)\n",
    "SEED = 123\n",
    "DATA_SPLIT_PCT = 0.2\n",
    "rcParams['figure.figsize'] = 8, 6\n",
    "LABELS = [\"Normal\",\"Break\"]"
   ]
  },
  {
   "cell_type": "code",
   "execution_count": 2,
   "metadata": {},
   "outputs": [],
   "source": [
    "df = pd.read_csv(\"rare_event_data.csv\")"
   ]
  },
  {
   "cell_type": "code",
   "execution_count": 3,
   "metadata": {},
   "outputs": [],
   "source": [
    "sign = lambda x: (1, -1)[x < 0]"
   ]
  },
  {
   "cell_type": "code",
   "execution_count": 4,
   "metadata": {},
   "outputs": [],
   "source": [
    "def curve_shift(df, shift_by):\n",
    "    vector = df['y'].copy()\n",
    "    for s in range(abs(shift_by)):\n",
    "        tmp = vector.shift(sign(shift_by))\n",
    "        tmp = tmp.fillna(0)\n",
    "        vector += tmp\n",
    "    labelcol = 'y'\n",
    "    df.insert(loc=0, column=labelcol+'tmp', value=vector)\n",
    "    df = df.drop(df[df[labelcol] == 1].index)\n",
    "    df = df.drop(labelcol, axis=1)\n",
    "    df = df.rename(columns={labelcol+'tmp': labelcol})\n",
    "    df.loc[df[labelcol] > 0, labelcol] = 1\n",
    "    return df"
   ]
  },
  {
   "cell_type": "code",
   "execution_count": 5,
   "metadata": {},
   "outputs": [],
   "source": [
    "df = curve_shift(df, shift_by = -2)"
   ]
  },
  {
   "cell_type": "code",
   "execution_count": 6,
   "metadata": {},
   "outputs": [],
   "source": [
    "df = df.drop(['time', 'x28', 'x61'], axis=1)"
   ]
  },
  {
   "cell_type": "code",
   "execution_count": 7,
   "metadata": {},
   "outputs": [],
   "source": [
    "df_train, df_test = train_test_split(df, test_size=DATA_SPLIT_PCT, random_state=SEED)\n",
    "df_train, df_valid = train_test_split(df_train, test_size=DATA_SPLIT_PCT, random_state=SEED)"
   ]
  },
  {
   "cell_type": "code",
   "execution_count": 8,
   "metadata": {},
   "outputs": [],
   "source": [
    "df_train_0 = df_train.loc[df['y'] == 0]\n",
    "df_train_1 = df_train.loc[df['y'] == 1]\n",
    "df_train_0_x = df_train_0.drop(['y'], axis=1)\n",
    "df_train_1_x = df_train_1.drop(['y'], axis=1)\n",
    "\n",
    "df_valid_0 = df_valid.loc[df['y'] == 0]\n",
    "df_valid_1 = df_valid.loc[df['y'] == 1]\n",
    "df_valid_0_x = df_valid_0.drop(['y'], axis=1)\n",
    "df_valid_1_x = df_valid_1.drop(['y'], axis=1)\n",
    "\n",
    "df_test_0 = df_test.loc[df['y'] == 0]\n",
    "df_test_1 = df_test.loc[df['y'] == 1]\n",
    "df_test_0_x = df_test_0.drop(['y'], axis=1)\n",
    "df_test_1_x = df_test_1.drop(['y'], axis=1)"
   ]
  },
  {
   "cell_type": "code",
   "execution_count": 9,
   "metadata": {},
   "outputs": [],
   "source": [
    "scaler = StandardScaler().fit(df_train_0_x)"
   ]
  },
  {
   "cell_type": "code",
   "execution_count": 10,
   "metadata": {},
   "outputs": [],
   "source": [
    "df_train_0_x_rescaled = scaler.transform(df_train_0_x)\n",
    "df_valid_0_x_rescaled = scaler.transform(df_valid_0_x)\n",
    "df_valid_x_rescaled = scaler.transform(df_valid.drop(['y'], axis = 1))\n",
    "df_test_0_x_rescaled = scaler.transform(df_test_0_x)\n",
    "df_test_x_rescaled = scaler.transform(df_test.drop(['y'], axis = 1))"
   ]
  },
  {
   "cell_type": "code",
   "execution_count": 11,
   "metadata": {},
   "outputs": [],
   "source": [
    "nb_epoch = 200\n",
    "batch_size = 128\n",
    "input_dim = df_train_0_x_rescaled.shape[1]\n",
    "encoding_dim = 32\n",
    "hidden_dim = int(encoding_dim / 2)\n",
    "learning_rate = 1e-3"
   ]
  },
  {
   "cell_type": "code",
   "execution_count": 12,
   "metadata": {},
   "outputs": [],
   "source": [
    "input_layer = Input(shape=(input_dim, ))"
   ]
  },
  {
   "cell_type": "code",
   "execution_count": 13,
   "metadata": {},
   "outputs": [],
   "source": [
    "encoder = Dense(encoding_dim, activation=\"relu\", activity_regularizer=regularizers.l1(learning_rate))(input_layer)\n",
    "encoder = Dense(hidden_dim, activation=\"relu\")(encoder)"
   ]
  },
  {
   "cell_type": "code",
   "execution_count": 14,
   "metadata": {},
   "outputs": [],
   "source": [
    "decoder = Dense(hidden_dim, activation=\"relu\")(encoder)\n",
    "decoder = Dense(encoding_dim, activation=\"relu\")(decoder)\n",
    "decoder = Dense(input_dim, activation=\"linear\")(decoder)"
   ]
  },
  {
   "cell_type": "code",
   "execution_count": 15,
   "metadata": {},
   "outputs": [],
   "source": [
    "autoencoder = Model(inputs=input_layer, outputs=decoder)"
   ]
  },
  {
   "cell_type": "code",
   "execution_count": 16,
   "metadata": {},
   "outputs": [],
   "source": [
    "autoencoder.compile(metrics=['accuracy'],\n",
    "                    loss='mean_squared_error',\n",
    "                    optimizer='adam')"
   ]
  },
  {
   "cell_type": "code",
   "execution_count": 17,
   "metadata": {},
   "outputs": [],
   "source": [
    "cp = ModelCheckpoint(filepath=\"autoencoder_classifier.h5\",\n",
    "                               save_best_only=True,\n",
    "                               verbose=0)"
   ]
  },
  {
   "cell_type": "code",
   "execution_count": 18,
   "metadata": {},
   "outputs": [],
   "source": [
    "tb = TensorBoard(log_dir='logs',\n",
    "                histogram_freq=0,\n",
    "                write_graph=True,\n",
    "                write_images=True)"
   ]
  },
  {
   "cell_type": "code",
   "execution_count": 19,
   "metadata": {
    "scrolled": true
   },
   "outputs": [
    {
     "name": "stdout",
     "output_type": "stream",
     "text": [
      "Train on 11541 samples, validate on 2883 samples\n",
      "Epoch 1/200\n",
      "11541/11541 [==============================] - 2s 168us/sample - loss: 0.8830 - accuracy: 0.0472 - val_loss: 0.6903 - val_accuracy: 0.0493\n",
      "Epoch 2/200\n",
      "11541/11541 [==============================] - 0s 43us/sample - loss: 0.5579 - accuracy: 0.1017 - val_loss: 0.4753 - val_accuracy: 0.1394\n",
      "Epoch 3/200\n",
      "11541/11541 [==============================] - 1s 54us/sample - loss: 0.4219 - accuracy: 0.1754 - val_loss: 0.3875 - val_accuracy: 0.2099\n",
      "Epoch 4/200\n",
      "11541/11541 [==============================] - 1s 47us/sample - loss: 0.3509 - accuracy: 0.2406 - val_loss: 0.3317 - val_accuracy: 0.2747\n",
      "Epoch 5/200\n",
      "11541/11541 [==============================] - 0s 42us/sample - loss: 0.3095 - accuracy: 0.3051 - val_loss: 0.3015 - val_accuracy: 0.3271\n",
      "Epoch 6/200\n",
      "11541/11541 [==============================] - 0s 42us/sample - loss: 0.2845 - accuracy: 0.3434 - val_loss: 0.2796 - val_accuracy: 0.3639\n",
      "Epoch 7/200\n",
      "11541/11541 [==============================] - 0s 41us/sample - loss: 0.2660 - accuracy: 0.3775 - val_loss: 0.2629 - val_accuracy: 0.3798\n",
      "Epoch 8/200\n",
      "11541/11541 [==============================] - 0s 41us/sample - loss: 0.2504 - accuracy: 0.3927 - val_loss: 0.2483 - val_accuracy: 0.3829\n",
      "Epoch 9/200\n",
      "11541/11541 [==============================] - 0s 41us/sample - loss: 0.2373 - accuracy: 0.3984 - val_loss: 0.2353 - val_accuracy: 0.3937\n",
      "Epoch 10/200\n",
      "11541/11541 [==============================] - 0s 41us/sample - loss: 0.2264 - accuracy: 0.4107 - val_loss: 0.2252 - val_accuracy: 0.4159\n",
      "Epoch 11/200\n",
      "11541/11541 [==============================] - 0s 40us/sample - loss: 0.2175 - accuracy: 0.4231 - val_loss: 0.2169 - val_accuracy: 0.4166\n",
      "Epoch 12/200\n",
      "11541/11541 [==============================] - 0s 41us/sample - loss: 0.2102 - accuracy: 0.4299 - val_loss: 0.2107 - val_accuracy: 0.4259\n",
      "Epoch 13/200\n",
      "11541/11541 [==============================] - 0s 41us/sample - loss: 0.2040 - accuracy: 0.4397 - val_loss: 0.2055 - val_accuracy: 0.4388\n",
      "Epoch 14/200\n",
      "11541/11541 [==============================] - 0s 41us/sample - loss: 0.1991 - accuracy: 0.4485 - val_loss: 0.2002 - val_accuracy: 0.4481\n",
      "Epoch 15/200\n",
      "11541/11541 [==============================] - 0s 41us/sample - loss: 0.1946 - accuracy: 0.4552 - val_loss: 0.1975 - val_accuracy: 0.4624\n",
      "Epoch 16/200\n",
      "11541/11541 [==============================] - 0s 41us/sample - loss: 0.1908 - accuracy: 0.4588 - val_loss: 0.1927 - val_accuracy: 0.4707\n",
      "Epoch 17/200\n",
      "11541/11541 [==============================] - 0s 42us/sample - loss: 0.1879 - accuracy: 0.4656 - val_loss: 0.1897 - val_accuracy: 0.4655\n",
      "Epoch 18/200\n",
      "11541/11541 [==============================] - 0s 41us/sample - loss: 0.1843 - accuracy: 0.4733 - val_loss: 0.1862 - val_accuracy: 0.4728\n",
      "Epoch 19/200\n",
      "11541/11541 [==============================] - 0s 42us/sample - loss: 0.1812 - accuracy: 0.4772 - val_loss: 0.1842 - val_accuracy: 0.4766\n",
      "Epoch 20/200\n",
      "11541/11541 [==============================] - 0s 42us/sample - loss: 0.1786 - accuracy: 0.4826 - val_loss: 0.1811 - val_accuracy: 0.4804\n",
      "Epoch 21/200\n",
      "11541/11541 [==============================] - 0s 41us/sample - loss: 0.1759 - accuracy: 0.4914 - val_loss: 0.1789 - val_accuracy: 0.4922\n",
      "Epoch 22/200\n",
      "11541/11541 [==============================] - 0s 42us/sample - loss: 0.1733 - accuracy: 0.4983 - val_loss: 0.1763 - val_accuracy: 0.4988\n",
      "Epoch 23/200\n",
      "11541/11541 [==============================] - 0s 41us/sample - loss: 0.1712 - accuracy: 0.4999 - val_loss: 0.1739 - val_accuracy: 0.5036\n",
      "Epoch 24/200\n",
      "11541/11541 [==============================] - 0s 42us/sample - loss: 0.1684 - accuracy: 0.5022 - val_loss: 0.1715 - val_accuracy: 0.5102\n",
      "Epoch 25/200\n",
      "11541/11541 [==============================] - 0s 42us/sample - loss: 0.1660 - accuracy: 0.5095 - val_loss: 0.1700 - val_accuracy: 0.5047\n",
      "Epoch 26/200\n",
      "11541/11541 [==============================] - 0s 43us/sample - loss: 0.1640 - accuracy: 0.5124 - val_loss: 0.1667 - val_accuracy: 0.5127\n",
      "Epoch 27/200\n",
      "11541/11541 [==============================] - 0s 41us/sample - loss: 0.1617 - accuracy: 0.5149 - val_loss: 0.1659 - val_accuracy: 0.5130\n",
      "Epoch 28/200\n",
      "11541/11541 [==============================] - 0s 42us/sample - loss: 0.1596 - accuracy: 0.5181 - val_loss: 0.1624 - val_accuracy: 0.5168\n",
      "Epoch 29/200\n",
      "11541/11541 [==============================] - 0s 41us/sample - loss: 0.1572 - accuracy: 0.5249 - val_loss: 0.1609 - val_accuracy: 0.5224\n",
      "Epoch 30/200\n",
      "11541/11541 [==============================] - 0s 41us/sample - loss: 0.1550 - accuracy: 0.5286 - val_loss: 0.1585 - val_accuracy: 0.5231\n",
      "Epoch 31/200\n",
      "11541/11541 [==============================] - 0s 40us/sample - loss: 0.1530 - accuracy: 0.5261 - val_loss: 0.1563 - val_accuracy: 0.5203\n",
      "Epoch 32/200\n",
      "11541/11541 [==============================] - 0s 41us/sample - loss: 0.1507 - accuracy: 0.5347 - val_loss: 0.1545 - val_accuracy: 0.5116\n",
      "Epoch 33/200\n",
      "11541/11541 [==============================] - 0s 41us/sample - loss: 0.1485 - accuracy: 0.5374 - val_loss: 0.1527 - val_accuracy: 0.5310\n",
      "Epoch 34/200\n",
      "11541/11541 [==============================] - 0s 42us/sample - loss: 0.1470 - accuracy: 0.5366 - val_loss: 0.1500 - val_accuracy: 0.5373\n",
      "Epoch 35/200\n",
      "11541/11541 [==============================] - 0s 42us/sample - loss: 0.1447 - accuracy: 0.5449 - val_loss: 0.1481 - val_accuracy: 0.5376\n",
      "Epoch 36/200\n",
      "11541/11541 [==============================] - 0s 42us/sample - loss: 0.1432 - accuracy: 0.5478 - val_loss: 0.1468 - val_accuracy: 0.5369\n",
      "Epoch 37/200\n",
      "11541/11541 [==============================] - 0s 41us/sample - loss: 0.1416 - accuracy: 0.5478 - val_loss: 0.1450 - val_accuracy: 0.5359\n",
      "Epoch 38/200\n",
      "11541/11541 [==============================] - 0s 41us/sample - loss: 0.1400 - accuracy: 0.5518 - val_loss: 0.1435 - val_accuracy: 0.5473\n",
      "Epoch 39/200\n",
      "11541/11541 [==============================] - 0s 41us/sample - loss: 0.1388 - accuracy: 0.5527 - val_loss: 0.1428 - val_accuracy: 0.5470\n",
      "Epoch 40/200\n",
      "11541/11541 [==============================] - 0s 42us/sample - loss: 0.1374 - accuracy: 0.5571 - val_loss: 0.1412 - val_accuracy: 0.5470\n",
      "Epoch 41/200\n",
      "11541/11541 [==============================] - 0s 41us/sample - loss: 0.1363 - accuracy: 0.5565 - val_loss: 0.1407 - val_accuracy: 0.5498\n",
      "Epoch 42/200\n",
      "11541/11541 [==============================] - 0s 42us/sample - loss: 0.1356 - accuracy: 0.5555 - val_loss: 0.1391 - val_accuracy: 0.5571\n",
      "Epoch 43/200\n",
      "11541/11541 [==============================] - 0s 41us/sample - loss: 0.1346 - accuracy: 0.5591 - val_loss: 0.1383 - val_accuracy: 0.5477\n",
      "Epoch 44/200\n",
      "11541/11541 [==============================] - 0s 41us/sample - loss: 0.1335 - accuracy: 0.5606 - val_loss: 0.1369 - val_accuracy: 0.5515\n",
      "Epoch 45/200\n",
      "11541/11541 [==============================] - 0s 36us/sample - loss: 0.1327 - accuracy: 0.5611 - val_loss: 0.1369 - val_accuracy: 0.5550\n",
      "Epoch 46/200\n",
      "11541/11541 [==============================] - 0s 41us/sample - loss: 0.1319 - accuracy: 0.5647 - val_loss: 0.1351 - val_accuracy: 0.5553\n",
      "Epoch 47/200\n",
      "11541/11541 [==============================] - 0s 41us/sample - loss: 0.1310 - accuracy: 0.5668 - val_loss: 0.1350 - val_accuracy: 0.5616\n",
      "Epoch 48/200\n",
      "11541/11541 [==============================] - 0s 41us/sample - loss: 0.1299 - accuracy: 0.5667 - val_loss: 0.1335 - val_accuracy: 0.5571\n",
      "Epoch 49/200\n",
      "11541/11541 [==============================] - 0s 41us/sample - loss: 0.1291 - accuracy: 0.5635 - val_loss: 0.1326 - val_accuracy: 0.5647\n",
      "Epoch 50/200\n",
      "11541/11541 [==============================] - 0s 35us/sample - loss: 0.1282 - accuracy: 0.5665 - val_loss: 0.1329 - val_accuracy: 0.5595\n",
      "Epoch 51/200\n",
      "11541/11541 [==============================] - 0s 42us/sample - loss: 0.1276 - accuracy: 0.5677 - val_loss: 0.1314 - val_accuracy: 0.5581\n",
      "Epoch 52/200\n",
      "11541/11541 [==============================] - 0s 41us/sample - loss: 0.1269 - accuracy: 0.5682 - val_loss: 0.1312 - val_accuracy: 0.5605\n",
      "Epoch 53/200\n",
      "11541/11541 [==============================] - 0s 42us/sample - loss: 0.1264 - accuracy: 0.5669 - val_loss: 0.1303 - val_accuracy: 0.5515\n",
      "Epoch 54/200\n",
      "11541/11541 [==============================] - 0s 41us/sample - loss: 0.1254 - accuracy: 0.5668 - val_loss: 0.1293 - val_accuracy: 0.5505\n"
     ]
    },
    {
     "name": "stdout",
     "output_type": "stream",
     "text": [
      "Epoch 55/200\n",
      "11541/11541 [==============================] - 1s 45us/sample - loss: 0.1247 - accuracy: 0.5701 - val_loss: 0.1283 - val_accuracy: 0.5536\n",
      "Epoch 56/200\n",
      "11541/11541 [==============================] - 0s 34us/sample - loss: 0.1240 - accuracy: 0.5655 - val_loss: 0.1284 - val_accuracy: 0.5470\n",
      "Epoch 57/200\n",
      "11541/11541 [==============================] - 0s 42us/sample - loss: 0.1234 - accuracy: 0.5676 - val_loss: 0.1273 - val_accuracy: 0.5650\n",
      "Epoch 58/200\n",
      "11541/11541 [==============================] - 0s 40us/sample - loss: 0.1229 - accuracy: 0.5701 - val_loss: 0.1269 - val_accuracy: 0.5536\n",
      "Epoch 59/200\n",
      "11541/11541 [==============================] - 0s 41us/sample - loss: 0.1223 - accuracy: 0.5689 - val_loss: 0.1264 - val_accuracy: 0.5591\n",
      "Epoch 60/200\n",
      "11541/11541 [==============================] - 0s 41us/sample - loss: 0.1217 - accuracy: 0.5679 - val_loss: 0.1256 - val_accuracy: 0.5626\n",
      "Epoch 61/200\n",
      "11541/11541 [==============================] - 0s 40us/sample - loss: 0.1214 - accuracy: 0.5702 - val_loss: 0.1253 - val_accuracy: 0.5598\n",
      "Epoch 62/200\n",
      "11541/11541 [==============================] - 0s 40us/sample - loss: 0.1209 - accuracy: 0.5682 - val_loss: 0.1244 - val_accuracy: 0.5616\n",
      "Epoch 63/200\n",
      "11541/11541 [==============================] - 0s 39us/sample - loss: 0.1200 - accuracy: 0.5684 - val_loss: 0.1243 - val_accuracy: 0.5560\n",
      "Epoch 64/200\n",
      "11541/11541 [==============================] - 0s 39us/sample - loss: 0.1197 - accuracy: 0.5670 - val_loss: 0.1234 - val_accuracy: 0.5564\n",
      "Epoch 65/200\n",
      "11541/11541 [==============================] - 0s 33us/sample - loss: 0.1192 - accuracy: 0.5683 - val_loss: 0.1235 - val_accuracy: 0.5605\n",
      "Epoch 66/200\n",
      "11541/11541 [==============================] - 0s 40us/sample - loss: 0.1187 - accuracy: 0.5687 - val_loss: 0.1227 - val_accuracy: 0.5560\n",
      "Epoch 67/200\n",
      "11541/11541 [==============================] - 0s 41us/sample - loss: 0.1178 - accuracy: 0.5660 - val_loss: 0.1217 - val_accuracy: 0.5661\n",
      "Epoch 68/200\n",
      "11541/11541 [==============================] - 0s 39us/sample - loss: 0.1177 - accuracy: 0.5720 - val_loss: 0.1215 - val_accuracy: 0.5602\n",
      "Epoch 69/200\n",
      "11541/11541 [==============================] - 0s 39us/sample - loss: 0.1170 - accuracy: 0.5692 - val_loss: 0.1208 - val_accuracy: 0.5643\n",
      "Epoch 70/200\n",
      "11541/11541 [==============================] - 0s 39us/sample - loss: 0.1167 - accuracy: 0.5727 - val_loss: 0.1206 - val_accuracy: 0.5685\n",
      "Epoch 71/200\n",
      "11541/11541 [==============================] - 0s 40us/sample - loss: 0.1161 - accuracy: 0.5722 - val_loss: 0.1198 - val_accuracy: 0.5619\n",
      "Epoch 72/200\n",
      "11541/11541 [==============================] - 0s 40us/sample - loss: 0.1157 - accuracy: 0.5747 - val_loss: 0.1198 - val_accuracy: 0.5539\n",
      "Epoch 73/200\n",
      "11541/11541 [==============================] - 0s 40us/sample - loss: 0.1155 - accuracy: 0.5707 - val_loss: 0.1186 - val_accuracy: 0.5564\n",
      "Epoch 74/200\n",
      "11541/11541 [==============================] - 0s 40us/sample - loss: 0.1146 - accuracy: 0.5773 - val_loss: 0.1182 - val_accuracy: 0.5598\n",
      "Epoch 75/200\n",
      "11541/11541 [==============================] - 0s 34us/sample - loss: 0.1142 - accuracy: 0.5751 - val_loss: 0.1184 - val_accuracy: 0.5682\n",
      "Epoch 76/200\n",
      "11541/11541 [==============================] - 0s 40us/sample - loss: 0.1135 - accuracy: 0.5736 - val_loss: 0.1179 - val_accuracy: 0.5564\n",
      "Epoch 77/200\n",
      "11541/11541 [==============================] - 0s 42us/sample - loss: 0.1139 - accuracy: 0.5729 - val_loss: 0.1164 - val_accuracy: 0.5709\n",
      "Epoch 78/200\n",
      "11541/11541 [==============================] - 0s 36us/sample - loss: 0.1125 - accuracy: 0.5774 - val_loss: 0.1165 - val_accuracy: 0.5668\n",
      "Epoch 79/200\n",
      "11541/11541 [==============================] - 0s 42us/sample - loss: 0.1121 - accuracy: 0.5756 - val_loss: 0.1161 - val_accuracy: 0.5636\n",
      "Epoch 80/200\n",
      "11541/11541 [==============================] - 0s 40us/sample - loss: 0.1116 - accuracy: 0.5785 - val_loss: 0.1149 - val_accuracy: 0.5671\n",
      "Epoch 81/200\n",
      "11541/11541 [==============================] - 0s 40us/sample - loss: 0.1114 - accuracy: 0.5790 - val_loss: 0.1144 - val_accuracy: 0.5685\n",
      "Epoch 82/200\n",
      "11541/11541 [==============================] - 0s 34us/sample - loss: 0.1105 - accuracy: 0.5796 - val_loss: 0.1144 - val_accuracy: 0.5810\n",
      "Epoch 83/200\n",
      "11541/11541 [==============================] - 0s 40us/sample - loss: 0.1103 - accuracy: 0.5824 - val_loss: 0.1135 - val_accuracy: 0.5803\n",
      "Epoch 84/200\n",
      "11541/11541 [==============================] - 0s 40us/sample - loss: 0.1095 - accuracy: 0.5827 - val_loss: 0.1129 - val_accuracy: 0.5702\n",
      "Epoch 85/200\n",
      "11541/11541 [==============================] - 0s 40us/sample - loss: 0.1090 - accuracy: 0.5842 - val_loss: 0.1120 - val_accuracy: 0.5834\n",
      "Epoch 86/200\n",
      "11541/11541 [==============================] - 0s 40us/sample - loss: 0.1085 - accuracy: 0.5842 - val_loss: 0.1114 - val_accuracy: 0.5775\n",
      "Epoch 87/200\n",
      "11541/11541 [==============================] - 0s 40us/sample - loss: 0.1079 - accuracy: 0.5843 - val_loss: 0.1111 - val_accuracy: 0.5838\n",
      "Epoch 88/200\n",
      "11541/11541 [==============================] - 0s 40us/sample - loss: 0.1074 - accuracy: 0.5867 - val_loss: 0.1102 - val_accuracy: 0.5796\n",
      "Epoch 89/200\n",
      "11541/11541 [==============================] - 0s 34us/sample - loss: 0.1077 - accuracy: 0.5857 - val_loss: 0.1102 - val_accuracy: 0.5858\n",
      "Epoch 90/200\n",
      "11541/11541 [==============================] - 0s 40us/sample - loss: 0.1066 - accuracy: 0.5878 - val_loss: 0.1099 - val_accuracy: 0.5761\n",
      "Epoch 91/200\n",
      "11541/11541 [==============================] - 0s 40us/sample - loss: 0.1064 - accuracy: 0.5883 - val_loss: 0.1087 - val_accuracy: 0.5734\n",
      "Epoch 92/200\n",
      "11541/11541 [==============================] - 0s 41us/sample - loss: 0.1057 - accuracy: 0.5931 - val_loss: 0.1083 - val_accuracy: 0.5820\n",
      "Epoch 93/200\n",
      "11541/11541 [==============================] - 0s 40us/sample - loss: 0.1055 - accuracy: 0.5912 - val_loss: 0.1079 - val_accuracy: 0.5761\n",
      "Epoch 94/200\n",
      "11541/11541 [==============================] - 0s 41us/sample - loss: 0.1047 - accuracy: 0.5914 - val_loss: 0.1075 - val_accuracy: 0.5768\n",
      "Epoch 95/200\n",
      "11541/11541 [==============================] - 0s 41us/sample - loss: 0.1042 - accuracy: 0.5896 - val_loss: 0.1070 - val_accuracy: 0.5810\n",
      "Epoch 96/200\n",
      "11541/11541 [==============================] - 0s 40us/sample - loss: 0.1043 - accuracy: 0.5937 - val_loss: 0.1064 - val_accuracy: 0.5744\n",
      "Epoch 97/200\n",
      "11541/11541 [==============================] - 0s 40us/sample - loss: 0.1035 - accuracy: 0.5946 - val_loss: 0.1059 - val_accuracy: 0.5824\n",
      "Epoch 98/200\n",
      "11541/11541 [==============================] - 0s 42us/sample - loss: 0.1031 - accuracy: 0.5919 - val_loss: 0.1056 - val_accuracy: 0.5765\n",
      "Epoch 99/200\n",
      "11541/11541 [==============================] - 0s 35us/sample - loss: 0.1027 - accuracy: 0.5960 - val_loss: 0.1059 - val_accuracy: 0.5806\n",
      "Epoch 100/200\n",
      "11541/11541 [==============================] - 0s 42us/sample - loss: 0.1025 - accuracy: 0.5963 - val_loss: 0.1047 - val_accuracy: 0.5754\n",
      "Epoch 101/200\n",
      "11541/11541 [==============================] - 0s 42us/sample - loss: 0.1020 - accuracy: 0.5962 - val_loss: 0.1047 - val_accuracy: 0.5786\n",
      "Epoch 102/200\n",
      "11541/11541 [==============================] - 0s 41us/sample - loss: 0.1018 - accuracy: 0.5967 - val_loss: 0.1033 - val_accuracy: 0.5838\n",
      "Epoch 103/200\n",
      "11541/11541 [==============================] - 0s 34us/sample - loss: 0.1014 - accuracy: 0.5986 - val_loss: 0.1035 - val_accuracy: 0.5803\n",
      "Epoch 104/200\n",
      "11541/11541 [==============================] - 0s 39us/sample - loss: 0.1008 - accuracy: 0.5988 - val_loss: 0.1031 - val_accuracy: 0.5796\n",
      "Epoch 105/200\n",
      "11541/11541 [==============================] - 0s 40us/sample - loss: 0.1007 - accuracy: 0.5986 - val_loss: 0.1031 - val_accuracy: 0.5858\n",
      "Epoch 106/200\n",
      "11541/11541 [==============================] - 0s 40us/sample - loss: 0.1004 - accuracy: 0.6002 - val_loss: 0.1029 - val_accuracy: 0.5782\n",
      "Epoch 107/200\n",
      "11541/11541 [==============================] - 0s 41us/sample - loss: 0.1003 - accuracy: 0.5999 - val_loss: 0.1024 - val_accuracy: 0.5900\n",
      "Epoch 108/200\n",
      "11541/11541 [==============================] - 0s 40us/sample - loss: 0.1000 - accuracy: 0.5998 - val_loss: 0.1017 - val_accuracy: 0.5876\n",
      "Epoch 109/200\n"
     ]
    },
    {
     "name": "stdout",
     "output_type": "stream",
     "text": [
      "11541/11541 [==============================] - 0s 34us/sample - loss: 0.0995 - accuracy: 0.5989 - val_loss: 0.1019 - val_accuracy: 0.5869\n",
      "Epoch 110/200\n",
      "11541/11541 [==============================] - 1s 78us/sample - loss: 0.0995 - accuracy: 0.6001 - val_loss: 0.1013 - val_accuracy: 0.5886\n",
      "Epoch 111/200\n",
      "11541/11541 [==============================] - 1s 71us/sample - loss: 0.0990 - accuracy: 0.6026 - val_loss: 0.1013 - val_accuracy: 0.5976\n",
      "Epoch 112/200\n",
      "11541/11541 [==============================] - 1s 50us/sample - loss: 0.0988 - accuracy: 0.6012 - val_loss: 0.1007 - val_accuracy: 0.5904\n",
      "Epoch 113/200\n",
      "11541/11541 [==============================] - 1s 44us/sample - loss: 0.0981 - accuracy: 0.6008 - val_loss: 0.1008 - val_accuracy: 0.5907\n",
      "Epoch 114/200\n",
      "11541/11541 [==============================] - 0s 41us/sample - loss: 0.0982 - accuracy: 0.6026 - val_loss: 0.0999 - val_accuracy: 0.5921\n",
      "Epoch 115/200\n",
      "11541/11541 [==============================] - 0s 31us/sample - loss: 0.0980 - accuracy: 0.6032 - val_loss: 0.1003 - val_accuracy: 0.5897\n",
      "Epoch 116/200\n",
      "11541/11541 [==============================] - 0s 33us/sample - loss: 0.0978 - accuracy: 0.6015 - val_loss: 0.1003 - val_accuracy: 0.5813\n",
      "Epoch 117/200\n",
      "11541/11541 [==============================] - 0s 30us/sample - loss: 0.0973 - accuracy: 0.6031 - val_loss: 0.1000 - val_accuracy: 0.5973\n",
      "Epoch 118/200\n",
      "11541/11541 [==============================] - 0s 39us/sample - loss: 0.0974 - accuracy: 0.6045 - val_loss: 0.0998 - val_accuracy: 0.5813\n",
      "Epoch 119/200\n",
      "11541/11541 [==============================] - 0s 37us/sample - loss: 0.0969 - accuracy: 0.6029 - val_loss: 0.0989 - val_accuracy: 0.5852\n",
      "Epoch 120/200\n",
      "11541/11541 [==============================] - 0s 37us/sample - loss: 0.0966 - accuracy: 0.6078 - val_loss: 0.0987 - val_accuracy: 0.5872\n",
      "Epoch 121/200\n",
      "11541/11541 [==============================] - 0s 30us/sample - loss: 0.0967 - accuracy: 0.6051 - val_loss: 0.0990 - val_accuracy: 0.5782\n",
      "Epoch 122/200\n",
      "11541/11541 [==============================] - 0s 34us/sample - loss: 0.0966 - accuracy: 0.6060 - val_loss: 0.0989 - val_accuracy: 0.5949\n",
      "Epoch 123/200\n",
      "11541/11541 [==============================] - 0s 35us/sample - loss: 0.0962 - accuracy: 0.6055 - val_loss: 0.0981 - val_accuracy: 0.5907\n",
      "Epoch 124/200\n",
      "11541/11541 [==============================] - 0s 32us/sample - loss: 0.0958 - accuracy: 0.6050 - val_loss: 0.0982 - val_accuracy: 0.5935\n",
      "Epoch 125/200\n",
      "11541/11541 [==============================] - 0s 35us/sample - loss: 0.0957 - accuracy: 0.6046 - val_loss: 0.0983 - val_accuracy: 0.5969\n",
      "Epoch 126/200\n",
      "11541/11541 [==============================] - 0s 31us/sample - loss: 0.0955 - accuracy: 0.6090 - val_loss: 0.0982 - val_accuracy: 0.5924\n",
      "Epoch 127/200\n",
      "11541/11541 [==============================] - 0s 35us/sample - loss: 0.0952 - accuracy: 0.6051 - val_loss: 0.0969 - val_accuracy: 0.5879\n",
      "Epoch 128/200\n",
      "11541/11541 [==============================] - 0s 30us/sample - loss: 0.0949 - accuracy: 0.6081 - val_loss: 0.0980 - val_accuracy: 0.5855\n",
      "Epoch 129/200\n",
      "11541/11541 [==============================] - 0s 29us/sample - loss: 0.0950 - accuracy: 0.6073 - val_loss: 0.0981 - val_accuracy: 0.5872\n",
      "Epoch 130/200\n",
      "11541/11541 [==============================] - 0s 29us/sample - loss: 0.0950 - accuracy: 0.6058 - val_loss: 0.0974 - val_accuracy: 0.5952\n",
      "Epoch 131/200\n",
      "11541/11541 [==============================] - 0s 38us/sample - loss: 0.0949 - accuracy: 0.6075 - val_loss: 0.0970 - val_accuracy: 0.5949\n",
      "Epoch 132/200\n",
      "11541/11541 [==============================] - 0s 30us/sample - loss: 0.0943 - accuracy: 0.6088 - val_loss: 0.0970 - val_accuracy: 0.5914\n",
      "Epoch 133/200\n",
      "11541/11541 [==============================] - 0s 34us/sample - loss: 0.0944 - accuracy: 0.6090 - val_loss: 0.0964 - val_accuracy: 0.6011\n",
      "Epoch 134/200\n",
      "11541/11541 [==============================] - 0s 36us/sample - loss: 0.0939 - accuracy: 0.6105 - val_loss: 0.0958 - val_accuracy: 0.5952\n",
      "Epoch 135/200\n",
      "11541/11541 [==============================] - 0s 30us/sample - loss: 0.0941 - accuracy: 0.6103 - val_loss: 0.0961 - val_accuracy: 0.5973\n",
      "Epoch 136/200\n",
      "11541/11541 [==============================] - 0s 38us/sample - loss: 0.0938 - accuracy: 0.6097 - val_loss: 0.0956 - val_accuracy: 0.5928\n",
      "Epoch 137/200\n",
      "11541/11541 [==============================] - 1s 61us/sample - loss: 0.0935 - accuracy: 0.6129 - val_loss: 0.0966 - val_accuracy: 0.5914\n",
      "Epoch 138/200\n",
      "11541/11541 [==============================] - 0s 35us/sample - loss: 0.0935 - accuracy: 0.6101 - val_loss: 0.0953 - val_accuracy: 0.6001\n",
      "Epoch 139/200\n",
      "11541/11541 [==============================] - 0s 31us/sample - loss: 0.0934 - accuracy: 0.6095 - val_loss: 0.0954 - val_accuracy: 0.6032\n",
      "Epoch 140/200\n",
      "11541/11541 [==============================] - 0s 29us/sample - loss: 0.0940 - accuracy: 0.6138 - val_loss: 0.0957 - val_accuracy: 0.5959\n",
      "Epoch 141/200\n",
      "11541/11541 [==============================] - 0s 36us/sample - loss: 0.0931 - accuracy: 0.6123 - val_loss: 0.0952 - val_accuracy: 0.5886\n",
      "Epoch 142/200\n",
      "11541/11541 [==============================] - 0s 29us/sample - loss: 0.0929 - accuracy: 0.6090 - val_loss: 0.0954 - val_accuracy: 0.5976\n",
      "Epoch 143/200\n",
      "11541/11541 [==============================] - 0s 35us/sample - loss: 0.0927 - accuracy: 0.6149 - val_loss: 0.0951 - val_accuracy: 0.6074\n",
      "Epoch 144/200\n",
      "11541/11541 [==============================] - 0s 35us/sample - loss: 0.0927 - accuracy: 0.6133 - val_loss: 0.0946 - val_accuracy: 0.5963\n",
      "Epoch 145/200\n",
      "11541/11541 [==============================] - 0s 31us/sample - loss: 0.0929 - accuracy: 0.6134 - val_loss: 0.0947 - val_accuracy: 0.5907\n",
      "Epoch 146/200\n",
      "11541/11541 [==============================] - 1s 59us/sample - loss: 0.0927 - accuracy: 0.6094 - val_loss: 0.0945 - val_accuracy: 0.5959\n",
      "Epoch 147/200\n",
      "11541/11541 [==============================] - 0s 43us/sample - loss: 0.0925 - accuracy: 0.6111 - val_loss: 0.0944 - val_accuracy: 0.5976\n",
      "Epoch 148/200\n",
      "11541/11541 [==============================] - 1s 59us/sample - loss: 0.0923 - accuracy: 0.6096 - val_loss: 0.0940 - val_accuracy: 0.6008\n",
      "Epoch 149/200\n",
      "11541/11541 [==============================] - 0s 36us/sample - loss: 0.0921 - accuracy: 0.6145 - val_loss: 0.0947 - val_accuracy: 0.6115\n",
      "Epoch 150/200\n",
      "11541/11541 [==============================] - 0s 35us/sample - loss: 0.0920 - accuracy: 0.6120 - val_loss: 0.0942 - val_accuracy: 0.5990\n",
      "Epoch 151/200\n",
      "11541/11541 [==============================] - 0s 40us/sample - loss: 0.0918 - accuracy: 0.6132 - val_loss: 0.0935 - val_accuracy: 0.5976\n",
      "Epoch 152/200\n",
      "11541/11541 [==============================] - 1s 47us/sample - loss: 0.0919 - accuracy: 0.6110 - val_loss: 0.0938 - val_accuracy: 0.6011\n",
      "Epoch 153/200\n",
      "11541/11541 [==============================] - 1s 72us/sample - loss: 0.0916 - accuracy: 0.6137 - val_loss: 0.0939 - val_accuracy: 0.6008\n",
      "Epoch 154/200\n",
      "11541/11541 [==============================] - 1s 45us/sample - loss: 0.0916 - accuracy: 0.6162 - val_loss: 0.0940 - val_accuracy: 0.6035\n",
      "Epoch 155/200\n",
      "11541/11541 [==============================] - 1s 76us/sample - loss: 0.0916 - accuracy: 0.6114 - val_loss: 0.0941 - val_accuracy: 0.6087\n",
      "Epoch 156/200\n",
      "11541/11541 [==============================] - 1s 90us/sample - loss: 0.0915 - accuracy: 0.6162 - val_loss: 0.0931 - val_accuracy: 0.6035\n",
      "Epoch 157/200\n",
      "11541/11541 [==============================] - 1s 66us/sample - loss: 0.0910 - accuracy: 0.6151 - val_loss: 0.0932 - val_accuracy: 0.6028\n",
      "Epoch 158/200\n",
      "11541/11541 [==============================] - 1s 57us/sample - loss: 0.0907 - accuracy: 0.6143 - val_loss: 0.0932 - val_accuracy: 0.6070\n",
      "Epoch 159/200\n",
      "11541/11541 [==============================] - 1s 55us/sample - loss: 0.0912 - accuracy: 0.6144 - val_loss: 0.0930 - val_accuracy: 0.6035\n",
      "Epoch 160/200\n",
      "11541/11541 [==============================] - 1s 49us/sample - loss: 0.0908 - accuracy: 0.6153 - val_loss: 0.0930 - val_accuracy: 0.6087\n",
      "Epoch 161/200\n",
      "11541/11541 [==============================] - 0s 36us/sample - loss: 0.0912 - accuracy: 0.6153 - val_loss: 0.0927 - val_accuracy: 0.6001\n",
      "Epoch 162/200\n",
      "11541/11541 [==============================] - 0s 28us/sample - loss: 0.0906 - accuracy: 0.6117 - val_loss: 0.0935 - val_accuracy: 0.6049\n"
     ]
    },
    {
     "name": "stdout",
     "output_type": "stream",
     "text": [
      "Epoch 163/200\n",
      "11541/11541 [==============================] - 0s 36us/sample - loss: 0.0905 - accuracy: 0.6143 - val_loss: 0.0925 - val_accuracy: 0.5990\n",
      "Epoch 164/200\n",
      "11541/11541 [==============================] - 0s 42us/sample - loss: 0.0905 - accuracy: 0.6168 - val_loss: 0.0926 - val_accuracy: 0.6094\n",
      "Epoch 165/200\n",
      "11541/11541 [==============================] - 1s 51us/sample - loss: 0.0902 - accuracy: 0.6158 - val_loss: 0.0926 - val_accuracy: 0.5952\n",
      "Epoch 166/200\n",
      "11541/11541 [==============================] - 1s 83us/sample - loss: 0.0901 - accuracy: 0.6155 - val_loss: 0.0922 - val_accuracy: 0.6028\n",
      "Epoch 167/200\n",
      "11541/11541 [==============================] - 1s 88us/sample - loss: 0.0900 - accuracy: 0.6160 - val_loss: 0.0920 - val_accuracy: 0.6080\n",
      "Epoch 168/200\n",
      "11541/11541 [==============================] - 1s 54us/sample - loss: 0.0898 - accuracy: 0.6160 - val_loss: 0.0921 - val_accuracy: 0.6039\n",
      "Epoch 169/200\n",
      "11541/11541 [==============================] - 1s 93us/sample - loss: 0.0899 - accuracy: 0.6179 - val_loss: 0.0924 - val_accuracy: 0.6018\n",
      "Epoch 170/200\n",
      "11541/11541 [==============================] - 1s 83us/sample - loss: 0.0897 - accuracy: 0.6172 - val_loss: 0.0930 - val_accuracy: 0.6164\n",
      "Epoch 171/200\n",
      "11541/11541 [==============================] - 0s 39us/sample - loss: 0.0897 - accuracy: 0.6185 - val_loss: 0.0924 - val_accuracy: 0.6105\n",
      "Epoch 172/200\n",
      "11541/11541 [==============================] - 0s 42us/sample - loss: 0.0902 - accuracy: 0.6129 - val_loss: 0.0918 - val_accuracy: 0.6077\n",
      "Epoch 173/200\n",
      "11541/11541 [==============================] - 0s 39us/sample - loss: 0.0895 - accuracy: 0.6185 - val_loss: 0.0915 - val_accuracy: 0.6094\n",
      "Epoch 174/200\n",
      "11541/11541 [==============================] - 0s 32us/sample - loss: 0.0894 - accuracy: 0.6189 - val_loss: 0.0921 - val_accuracy: 0.6119\n",
      "Epoch 175/200\n",
      "11541/11541 [==============================] - 0s 33us/sample - loss: 0.0897 - accuracy: 0.6189 - val_loss: 0.0923 - val_accuracy: 0.6153\n",
      "Epoch 176/200\n",
      "11541/11541 [==============================] - 0s 36us/sample - loss: 0.0895 - accuracy: 0.6200 - val_loss: 0.0916 - val_accuracy: 0.6063\n",
      "Epoch 177/200\n",
      "11541/11541 [==============================] - 1s 47us/sample - loss: 0.0892 - accuracy: 0.6194 - val_loss: 0.0909 - val_accuracy: 0.6046\n",
      "Epoch 178/200\n",
      "11541/11541 [==============================] - 1s 46us/sample - loss: 0.0890 - accuracy: 0.6169 - val_loss: 0.0918 - val_accuracy: 0.6133\n",
      "Epoch 179/200\n",
      "11541/11541 [==============================] - 0s 41us/sample - loss: 0.0891 - accuracy: 0.6190 - val_loss: 0.0909 - val_accuracy: 0.6032\n",
      "Epoch 180/200\n",
      "11541/11541 [==============================] - 0s 31us/sample - loss: 0.0890 - accuracy: 0.6201 - val_loss: 0.0915 - val_accuracy: 0.6080\n",
      "Epoch 181/200\n",
      "11541/11541 [==============================] - 0s 32us/sample - loss: 0.0890 - accuracy: 0.6227 - val_loss: 0.0909 - val_accuracy: 0.6122\n",
      "Epoch 182/200\n",
      "11541/11541 [==============================] - 0s 33us/sample - loss: 0.0888 - accuracy: 0.6198 - val_loss: 0.0909 - val_accuracy: 0.5973\n",
      "Epoch 183/200\n",
      "11541/11541 [==============================] - 0s 31us/sample - loss: 0.0886 - accuracy: 0.6213 - val_loss: 0.0925 - val_accuracy: 0.6028\n",
      "Epoch 184/200\n",
      "11541/11541 [==============================] - 0s 31us/sample - loss: 0.0897 - accuracy: 0.6166 - val_loss: 0.0913 - val_accuracy: 0.6063\n",
      "Epoch 185/200\n",
      "11541/11541 [==============================] - 0s 31us/sample - loss: 0.0888 - accuracy: 0.6191 - val_loss: 0.0914 - val_accuracy: 0.6126\n",
      "Epoch 186/200\n",
      "11541/11541 [==============================] - 0s 31us/sample - loss: 0.0886 - accuracy: 0.6220 - val_loss: 0.0910 - val_accuracy: 0.6080\n",
      "Epoch 187/200\n",
      "11541/11541 [==============================] - 0s 37us/sample - loss: 0.0887 - accuracy: 0.6180 - val_loss: 0.0903 - val_accuracy: 0.6077\n",
      "Epoch 188/200\n",
      "11541/11541 [==============================] - 0s 30us/sample - loss: 0.0883 - accuracy: 0.6223 - val_loss: 0.0904 - val_accuracy: 0.6042\n",
      "Epoch 189/200\n",
      "11541/11541 [==============================] - 0s 37us/sample - loss: 0.0883 - accuracy: 0.6203 - val_loss: 0.0900 - val_accuracy: 0.6181\n",
      "Epoch 190/200\n",
      "11541/11541 [==============================] - 0s 31us/sample - loss: 0.0881 - accuracy: 0.6194 - val_loss: 0.0908 - val_accuracy: 0.6219\n",
      "Epoch 191/200\n",
      "11541/11541 [==============================] - 0s 31us/sample - loss: 0.0885 - accuracy: 0.6204 - val_loss: 0.0904 - val_accuracy: 0.6077\n",
      "Epoch 192/200\n",
      "11541/11541 [==============================] - 0s 32us/sample - loss: 0.0886 - accuracy: 0.6187 - val_loss: 0.0911 - val_accuracy: 0.6015\n",
      "Epoch 193/200\n",
      "11541/11541 [==============================] - 0s 31us/sample - loss: 0.0889 - accuracy: 0.6212 - val_loss: 0.0902 - val_accuracy: 0.6178\n",
      "Epoch 194/200\n",
      "11541/11541 [==============================] - 0s 36us/sample - loss: 0.0880 - accuracy: 0.6201 - val_loss: 0.0900 - val_accuracy: 0.6171\n",
      "Epoch 195/200\n",
      "11541/11541 [==============================] - 0s 36us/sample - loss: 0.0878 - accuracy: 0.6201 - val_loss: 0.0900 - val_accuracy: 0.6084\n",
      "Epoch 196/200\n",
      "11541/11541 [==============================] - 0s 32us/sample - loss: 0.0877 - accuracy: 0.6201 - val_loss: 0.0903 - val_accuracy: 0.6167\n",
      "Epoch 197/200\n",
      "11541/11541 [==============================] - 0s 32us/sample - loss: 0.0878 - accuracy: 0.6216 - val_loss: 0.0906 - val_accuracy: 0.6133\n",
      "Epoch 198/200\n",
      "11541/11541 [==============================] - 0s 31us/sample - loss: 0.0878 - accuracy: 0.6220 - val_loss: 0.0901 - val_accuracy: 0.6080\n",
      "Epoch 199/200\n",
      "11541/11541 [==============================] - 0s 37us/sample - loss: 0.0876 - accuracy: 0.6195 - val_loss: 0.0898 - val_accuracy: 0.6205\n",
      "Epoch 200/200\n",
      "11541/11541 [==============================] - 0s 31us/sample - loss: 0.0876 - accuracy: 0.6221 - val_loss: 0.0903 - val_accuracy: 0.6060\n"
     ]
    }
   ],
   "source": [
    "history = autoencoder.fit(df_train_0_x_rescaled, df_train_0_x_rescaled,\n",
    "                    epochs=nb_epoch,\n",
    "                    batch_size=batch_size,\n",
    "                    shuffle=True,\n",
    "                    validation_data=(df_valid_0_x_rescaled, df_valid_0_x_rescaled),\n",
    "                    verbose=1,\n",
    "                    callbacks=[cp, tb]).history"
   ]
  },
  {
   "cell_type": "code",
   "execution_count": 20,
   "metadata": {},
   "outputs": [],
   "source": [
    "autoencoder = load_model('autoencoder_classifier.h5')"
   ]
  },
  {
   "cell_type": "code",
   "execution_count": 21,
   "metadata": {},
   "outputs": [
    {
     "data": {
      "image/png": "[encoded data removed]",
      "text/plain": [
       "<Figure size 576x432 with 1 Axes>"
      ]
     },
     "metadata": {
      "needs_background": "light"
     },
     "output_type": "display_data"
    }
   ],
   "source": [
    "plt.plot(history['loss'], linewidth=2, label='Train')\n",
    "plt.plot(history['val_loss'], linewidth=2, label='Valid')\n",
    "plt.legend(loc='upper right')\n",
    "plt.title('Model loss')\n",
    "plt.ylabel('Loss')\n",
    "plt.xlabel('Epoch')\n",
    "plt.show()"
   ]
  },
  {
   "cell_type": "code",
   "execution_count": 22,
   "metadata": {},
   "outputs": [
    {
     "data": {
      "image/png": "[encoded data removed]",
      "text/plain": [
       "<Figure size 576x432 with 1 Axes>"
      ]
     },
     "metadata": {
      "needs_background": "light"
     },
     "output_type": "display_data"
    }
   ],
   "source": [
    "valid_x_predictions = autoencoder.predict(df_valid_x_rescaled)\n",
    "mse = np.mean(np.power(df_valid_x_rescaled - valid_x_predictions, 2), axis=1)\n",
    "error_df = pd.DataFrame({'Reconstruction_error': mse,\n",
    "                        'True_class': df_valid['y']})\n",
    "\n",
    "precision_rt, recall_rt, threshold_rt = precision_recall_curve(error_df.True_class, error_df.Reconstruction_error)\n",
    "plt.plot(threshold_rt, precision_rt[1:], label=\"Precision\",linewidth=5)\n",
    "plt.plot(threshold_rt, recall_rt[1:], label=\"Recall\",linewidth=5)\n",
    "plt.title('Precision and recall for different threshold values')\n",
    "plt.xlabel('Threshold')\n",
    "plt.ylabel('Precision/Recall')\n",
    "plt.legend()\n",
    "plt.show()"
   ]
  },
  {
   "cell_type": "code",
   "execution_count": 23,
   "metadata": {},
   "outputs": [
    {
     "data": {
      "image/png": "[encoded data removed]",
      "text/plain": [
       "<Figure size 576x432 with 1 Axes>"
      ]
     },
     "metadata": {
      "needs_background": "light"
     },
     "output_type": "display_data"
    }
   ],
   "source": [
    "test_x_predictions = autoencoder.predict(df_test_x_rescaled)\n",
    "mse = np.mean(np.power(df_test_x_rescaled - test_x_predictions, 2), axis=1)\n",
    "error_df_test = pd.DataFrame({'Reconstruction_error': mse,\n",
    "                        'True_class': df_test['y']})\n",
    "error_df_test = error_df_test.reset_index()\n",
    "threshold_fixed = 0.4\n",
    "groups = error_df_test.groupby('True_class')\n",
    "fig, ax = plt.subplots()\n",
    "for name, group in groups:\n",
    "    ax.plot(group.index, group.Reconstruction_error, marker='o', ms=3.5, linestyle='',\n",
    "            label= \"Break\" if name == 1 else \"Normal\")\n",
    "ax.hlines(threshold_fixed, ax.get_xlim()[0], ax.get_xlim()[1], colors=\"r\", zorder=100, label='Threshold')\n",
    "ax.legend()\n",
    "plt.title(\"Reconstruction error for different classes\")\n",
    "plt.ylabel(\"Reconstruction error\")\n",
    "plt.xlabel(\"Data point index\")\n",
    "plt.show();"
   ]
  },
  {
   "cell_type": "code",
   "execution_count": 24,
   "metadata": {},
   "outputs": [
    {
     "data": {
      "image/png": "[encoded data removed]",
      "text/plain": [
       "<Figure size 864x864 with 2 Axes>"
      ]
     },
     "metadata": {
      "needs_background": "light"
     },
     "output_type": "display_data"
    }
   ],
   "source": [
    "pred_y = [1 if e > threshold_fixed else 0 for e in error_df.Reconstruction_error.values]\n",
    "conf_matrix = confusion_matrix(error_df.True_class, pred_y)\n",
    "plt.figure(figsize=(12, 12))\n",
    "sns.heatmap(conf_matrix, xticklabels=LABELS, yticklabels=LABELS, annot=True, fmt=\"d\");\n",
    "plt.title(\"Confusion matrix\")\n",
    "plt.ylabel('True class')\n",
    "plt.xlabel('Predicted class')\n",
    "plt.show()"
   ]
  },
  {
   "cell_type": "code",
   "execution_count": 25,
   "metadata": {},
   "outputs": [
    {
     "data": {
      "image/png": "[encoded data removed]",
      "text/plain": [
       "<Figure size 576x432 with 1 Axes>"
      ]
     },
     "metadata": {
      "needs_background": "light"
     },
     "output_type": "display_data"
    }
   ],
   "source": [
    "false_pos_rate, true_pos_rate, thresholds = roc_curve(error_df.True_class, error_df.Reconstruction_error)\n",
    "roc_auc = auc(false_pos_rate, true_pos_rate,)\n",
    "plt.plot(false_pos_rate, true_pos_rate, linewidth=5, label='AUC = %0.3f'% roc_auc)\n",
    "plt.plot([0,1],[0,1], linewidth=5)\n",
    "plt.xlim([-0.01, 1])\n",
    "plt.ylim([0, 1.01])\n",
    "plt.legend(loc='lower right')\n",
    "plt.title('Receiver operating characteristic curve (ROC)')\n",
    "plt.ylabel('True Positive Rate')\n",
    "plt.xlabel('False Positive Rate')\n",
    "plt.show()"
   ]
  },
  {
   "cell_type": "code",
   "execution_count": null,
   "metadata": {},
   "outputs": [],
   "source": []
  }
 ],
 "metadata": {
  "kernelspec": {
   "display_name": "Python 3",
   "language": "python",
   "name": "python3"
  },
  "language_info": {
   "codemirror_mode": {
    "name": "ipython",
    "version": 3
   },
   "file_extension": ".py",
   "mimetype": "text/x-python",
   "name": "python",
   "nbconvert_exporter": "python",
   "pygments_lexer": "ipython3",
   "version": "3.7.6"
  }
 },
 "nbformat": 4,
 "nbformat_minor": 4
}
