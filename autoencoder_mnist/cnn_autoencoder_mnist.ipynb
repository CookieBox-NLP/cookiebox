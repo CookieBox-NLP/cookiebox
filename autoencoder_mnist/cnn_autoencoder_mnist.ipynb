{
 "cells": [
  {
   "cell_type": "code",
   "execution_count": 1,
   "metadata": {},
   "outputs": [],
   "source": [
    "from tensorflow.keras.datasets import mnist\n",
    "from tensorflow.keras.layers import Input, Dense, Conv2D, MaxPooling2D, UpSampling2D\n",
    "from tensorflow.keras.models import Model, model_from_json\n",
    "from tensorflow.compat.v1 import ConfigProto\n",
    "from tensorflow.compat.v1 import InteractiveSession\n",
    "from tensorflow.keras.losses import binary_crossentropy\n",
    "from tensorflow.keras import backend as K\n",
    "from numpy.random import randn\n",
    "\n",
    "import numpy as np\n",
    "import pandas as pd\n",
    "import tensorflow as tf\n",
    "\n",
    "import matplotlib.pyplot as plt\n",
    "%matplotlib inline"
   ]
  },
  {
   "cell_type": "code",
   "execution_count": 2,
   "metadata": {},
   "outputs": [],
   "source": [
    "config = ConfigProto()\n",
    "config.gpu_options.allow_growth = True\n",
    "session = InteractiveSession(config=config)"
   ]
  },
  {
   "cell_type": "code",
   "execution_count": 3,
   "metadata": {},
   "outputs": [],
   "source": [
    "def plot(autoencoder, encoder, x, save):\n",
    "    encoded_imgs = encoder.predict(X_test_noisy)\n",
    "    predicted = autoencoder.predict(X_test_noisy)\n",
    "    plt.figure(figsize=(40, 4))\n",
    "    for i in range(20):    \n",
    "        ax = plt.subplot(4, 20, i + 1)\n",
    "        plt.imshow(X_test[i].reshape(28, 28))\n",
    "        plt.gray()\n",
    "        ax.get_xaxis().set_visible(False)\n",
    "        ax.get_yaxis().set_visible(False)\n",
    "\n",
    "        ax = plt.subplot(4, 20, i + 1+20)\n",
    "        plt.imshow(X_test_noisy[i].reshape(28, 28))\n",
    "        plt.gray()\n",
    "        ax.get_xaxis().set_visible(False)\n",
    "        ax.get_yaxis().set_visible(False)\n",
    "\n",
    "        ax = plt.subplot(4, 20, 2*20+i + 1 )\n",
    "        plt.imshow(encoded_imgs[i].reshape(32,8))\n",
    "        plt.gray()\n",
    "        ax.get_xaxis().set_visible(False)\n",
    "        ax.get_yaxis().set_visible(False)\n",
    "\n",
    "        ax = plt.subplot(4, 20, 3*20 +i+ 1)\n",
    "        plt.imshow(predicted[i].reshape(28, 28))\n",
    "        plt.gray()\n",
    "        ax.get_xaxis().set_visible(False)\n",
    "        ax.get_yaxis().set_visible(False)\n",
    "    if save:\n",
    "        plt.savefig(\"plots/plot_{0}.png\".format(x))\n",
    "        plt.close()\n",
    "    else:\n",
    "        plt.show()"
   ]
  },
  {
   "cell_type": "code",
   "execution_count": 4,
   "metadata": {},
   "outputs": [],
   "source": [
    "def load(x):\n",
    "    json_file = open('autoencoder/model_autoencoder_{0}.json'.format(x), 'r')\n",
    "    loaded_model_json = json_file.read()\n",
    "    json_file.close()\n",
    "    autoencoder = model_from_json(loaded_model_json)\n",
    "    autoencoder.load_weights(\"autoencoder/model_autoencoder_{0}.h5\".format(x))\n",
    "    json_file = open('encoder/model_encoder_{0}.json'.format(x), 'r')\n",
    "    loaded_model_json = json_file.read()\n",
    "    json_file.close()\n",
    "    encoder = model_from_json(loaded_model_json)\n",
    "    encoder.load_weights(\"encoder/model_encoder_{0}.h5\".format(x))\n",
    "    return autoencoder, encoder"
   ]
  },
  {
   "cell_type": "code",
   "execution_count": 5,
   "metadata": {},
   "outputs": [],
   "source": [
    "def save(autoencoder, encoder, x):\n",
    "    model_json = autoencoder.to_json()\n",
    "    with open(\"autoencoder/model_autoencoder_{0}.json\".format(x), \"w\") as json_file:\n",
    "        json_file.write(model_json)\n",
    "    autoencoder.save_weights(\"autoencoder/model_autoencoder_{0}.h5\".format(x))\n",
    "    model_json = encoder.to_json()\n",
    "    with open(\"encoder/model_encoder_{0}.json\".format(x), \"w\") as json_file:\n",
    "        json_file.write(model_json)\n",
    "    encoder.save_weights(\"encoder/model_encoder_{0}.h5\".format(x))"
   ]
  },
  {
   "cell_type": "code",
   "execution_count": null,
   "metadata": {},
   "outputs": [],
   "source": [
    "def generate_latent_points(latent_dim, n_samples, n_classes=10):\n",
    "    z_input = []\n",
    "    for x in range(n_samples):\n",
    "        z_input += [randn(latent_dim).reshape(28, 28, 1)]\n",
    "    return np.asarray(z_input)"
   ]
  },
  {
   "cell_type": "code",
   "execution_count": 6,
   "metadata": {},
   "outputs": [],
   "source": [
    "(X_train, _), (X_test, _) = mnist.load_data()\n",
    "X_train = X_train.astype('float32')/255\n",
    "X_test = X_test.astype('float32')/255\n",
    "X_train = X_train.reshape(len(X_train), np.prod(X_train.shape[1:]))\n",
    "X_test = X_test.reshape(len(X_test), np.prod(X_test.shape[1:]))\n",
    "X_train_noisy = X_train + np.random.normal(loc=0.0, scale=0.1, size=X_train.shape)\n",
    "X_train_noisy = np.clip(X_train_noisy, 0., 1.)\n",
    "X_test_noisy = X_test + np.random.normal(loc=0.0, scale=0.1, size=X_test.shape)\n",
    "X_test_noisy = np.clip(X_test_noisy, 0., 1.)\n",
    "X_train_noisy = np.reshape(X_train_noisy, (len(X_train_noisy), 28, 28, 1))\n",
    "X_test_noisy = np.reshape(X_test_noisy, (len(X_test_noisy), 28, 28, 1))"
   ]
  },
  {
   "cell_type": "code",
   "execution_count": 7,
   "metadata": {},
   "outputs": [],
   "source": [
    "autoencoder, encoder = load(49)"
   ]
  },
  {
   "cell_type": "code",
   "execution_count": 8,
   "metadata": {},
   "outputs": [],
   "source": [
    "input_img = Input(shape=(28, 28, 1))"
   ]
  },
  {
   "cell_type": "code",
   "execution_count": null,
   "metadata": {},
   "outputs": [],
   "source": [
    "x = Conv2D(64, (3, 3), activation='relu', padding='same')(input_img)\n",
    "x = MaxPooling2D((2, 2), padding='same')(x)\n",
    "x = Conv2D(16, (3, 3), activation='relu', padding='same')(x)\n",
    "x = MaxPooling2D((2, 2), padding='same')(x)\n",
    "x = Conv2D(16, (3, 3), activation='relu', padding='same')(x)\n",
    "encoded = MaxPooling2D((2, 2), padding='same')(x)"
   ]
  },
  {
   "cell_type": "code",
   "execution_count": null,
   "metadata": {},
   "outputs": [],
   "source": [
    "x = Conv2D(16, (3, 3), activation='relu', padding='same')(encoded)\n",
    "x = UpSampling2D((2, 2))(x)\n",
    "x = Conv2D(16, (3, 3), activation='relu', padding='same')(x)\n",
    "x = UpSampling2D((2, 2))(x)\n",
    "x = Conv2D(64, (3, 3), activation='relu')(x)\n",
    "x = UpSampling2D((2, 2))(x)\n",
    "decoded = Conv2D(1, (3, 3), activation='sigmoid', padding='same')(x)"
   ]
  },
  {
   "cell_type": "code",
   "execution_count": null,
   "metadata": {},
   "outputs": [],
   "source": [
    "autoencoder = Model(input_img, decoded)"
   ]
  },
  {
   "cell_type": "code",
   "execution_count": null,
   "metadata": {},
   "outputs": [],
   "source": [
    "encoder = Model(input_img, encoded)"
   ]
  },
  {
   "cell_type": "code",
   "execution_count": 9,
   "metadata": {},
   "outputs": [],
   "source": [
    "autoencoder.compile(optimizer='adadelta', loss='binary_crossentropy', metrics=['accuracy'])"
   ]
  },
  {
   "cell_type": "code",
   "execution_count": 10,
   "metadata": {
    "scrolled": true
   },
   "outputs": [
    {
     "name": "stdout",
     "output_type": "stream",
     "text": [
      "Train on 60000 samples, validate on 10000 samples\n",
      "Epoch 1/50\n",
      "60000/60000 [==============================] - 21s 346us/sample - loss: 0.2241 - accuracy: 0.4492 - val_loss: 0.2235 - val_accuracy: 0.4495\n",
      "Epoch 2/50\n",
      "60000/60000 [==============================] - 16s 266us/sample - loss: 0.2241 - accuracy: 0.4492 - val_loss: 0.2235 - val_accuracy: 0.4495\n",
      "Epoch 3/50\n",
      "60000/60000 [==============================] - 15s 254us/sample - loss: 0.2241 - accuracy: 0.4492 - val_loss: 0.2235 - val_accuracy: 0.4495\n",
      "Epoch 4/50\n",
      "60000/60000 [==============================] - 16s 260us/sample - loss: 0.2241 - accuracy: 0.4492 - val_loss: 0.2235 - val_accuracy: 0.4495\n",
      "Epoch 5/50\n",
      "60000/60000 [==============================] - 15s 254us/sample - loss: 0.2241 - accuracy: 0.4492 - val_loss: 0.2235 - val_accuracy: 0.4495\n",
      "Epoch 6/50\n",
      "60000/60000 [==============================] - 15s 252us/sample - loss: 0.2241 - accuracy: 0.4492 - val_loss: 0.2235 - val_accuracy: 0.4495\n",
      "Epoch 7/50\n",
      "60000/60000 [==============================] - 16s 260us/sample - loss: 0.2241 - accuracy: 0.4492 - val_loss: 0.2235 - val_accuracy: 0.4495\n",
      "Epoch 8/50\n",
      "60000/60000 [==============================] - 15s 251us/sample - loss: 0.2241 - accuracy: 0.4492 - val_loss: 0.2235 - val_accuracy: 0.4495\n",
      "Epoch 9/50\n",
      "60000/60000 [==============================] - 16s 273us/sample - loss: 0.2241 - accuracy: 0.4492 - val_loss: 0.2235 - val_accuracy: 0.4495\n",
      "Epoch 10/50\n",
      "60000/60000 [==============================] - 18s 302us/sample - loss: 0.2241 - accuracy: 0.4492 - val_loss: 0.2235 - val_accuracy: 0.4495\n",
      "Epoch 11/50\n",
      "60000/60000 [==============================] - 16s 263us/sample - loss: 0.2241 - accuracy: 0.4492 - val_loss: 0.2235 - val_accuracy: 0.4495\n",
      "Epoch 12/50\n",
      "60000/60000 [==============================] - 15s 253us/sample - loss: 0.2241 - accuracy: 0.4492 - val_loss: 0.2235 - val_accuracy: 0.4495\n",
      "Epoch 13/50\n",
      "60000/60000 [==============================] - 15s 255us/sample - loss: 0.2241 - accuracy: 0.4492 - val_loss: 0.2235 - val_accuracy: 0.4495\n",
      "Epoch 14/50\n",
      "60000/60000 [==============================] - 15s 253us/sample - loss: 0.2241 - accuracy: 0.4492 - val_loss: 0.2235 - val_accuracy: 0.4495\n",
      "Epoch 15/50\n",
      "60000/60000 [==============================] - 15s 251us/sample - loss: 0.2241 - accuracy: 0.4492 - val_loss: 0.2235 - val_accuracy: 0.4495\n",
      "Epoch 16/50\n",
      "60000/60000 [==============================] - 15s 254us/sample - loss: 0.2241 - accuracy: 0.4492 - val_loss: 0.2235 - val_accuracy: 0.4495\n",
      "Epoch 17/50\n",
      "60000/60000 [==============================] - 14s 239us/sample - loss: 0.2241 - accuracy: 0.4492 - val_loss: 0.2235 - val_accuracy: 0.4495\n",
      "Epoch 18/50\n",
      "60000/60000 [==============================] - 15s 252us/sample - loss: 0.2241 - accuracy: 0.4492 - val_loss: 0.2234 - val_accuracy: 0.4495\n",
      "Epoch 19/50\n",
      "60000/60000 [==============================] - 15s 244us/sample - loss: 0.2241 - accuracy: 0.4492 - val_loss: 0.2235 - val_accuracy: 0.4495\n",
      "Epoch 20/50\n",
      "60000/60000 [==============================] - 15s 249us/sample - loss: 0.2241 - accuracy: 0.4492 - val_loss: 0.2234 - val_accuracy: 0.4495\n",
      "Epoch 21/50\n",
      "60000/60000 [==============================] - 14s 241us/sample - loss: 0.2241 - accuracy: 0.4492 - val_loss: 0.2234 - val_accuracy: 0.4495\n",
      "Epoch 22/50\n",
      "60000/60000 [==============================] - 14s 241us/sample - loss: 0.2241 - accuracy: 0.4492 - val_loss: 0.2234 - val_accuracy: 0.4495\n",
      "Epoch 23/50\n",
      "60000/60000 [==============================] - 14s 241us/sample - loss: 0.2241 - accuracy: 0.4492 - val_loss: 0.2234 - val_accuracy: 0.4495\n",
      "Epoch 24/50\n",
      "60000/60000 [==============================] - 15s 248us/sample - loss: 0.2241 - accuracy: 0.4492 - val_loss: 0.2234 - val_accuracy: 0.4495\n",
      "Epoch 25/50\n",
      "60000/60000 [==============================] - 15s 256us/sample - loss: 0.2241 - accuracy: 0.4492 - val_loss: 0.2234 - val_accuracy: 0.4495\n",
      "Epoch 26/50\n",
      "60000/60000 [==============================] - 15s 246us/sample - loss: 0.2241 - accuracy: 0.4492 - val_loss: 0.2234 - val_accuracy: 0.4495\n",
      "Epoch 27/50\n",
      "60000/60000 [==============================] - 16s 260us/sample - loss: 0.2241 - accuracy: 0.4492 - val_loss: 0.2234 - val_accuracy: 0.4495\n",
      "Epoch 28/50\n",
      "60000/60000 [==============================] - 15s 254us/sample - loss: 0.2241 - accuracy: 0.4492 - val_loss: 0.2234 - val_accuracy: 0.4495\n",
      "Epoch 29/50\n",
      "60000/60000 [==============================] - 15s 250us/sample - loss: 0.2240 - accuracy: 0.4492 - val_loss: 0.2234 - val_accuracy: 0.4495\n",
      "Epoch 30/50\n",
      "60000/60000 [==============================] - 20s 340us/sample - loss: 0.2240 - accuracy: 0.4492 - val_loss: 0.2234 - val_accuracy: 0.4495\n",
      "Epoch 31/50\n",
      "60000/60000 [==============================] - 16s 262us/sample - loss: 0.2240 - accuracy: 0.4492 - val_loss: 0.2234 - val_accuracy: 0.4495\n",
      "Epoch 32/50\n",
      "60000/60000 [==============================] - 15s 252us/sample - loss: 0.2240 - accuracy: 0.4492 - val_loss: 0.2234 - val_accuracy: 0.4495\n",
      "Epoch 33/50\n",
      "60000/60000 [==============================] - 15s 254us/sample - loss: 0.2240 - accuracy: 0.4492 - val_loss: 0.2234 - val_accuracy: 0.4495\n",
      "Epoch 34/50\n",
      "60000/60000 [==============================] - 15s 253us/sample - loss: 0.2240 - accuracy: 0.4492 - val_loss: 0.2234 - val_accuracy: 0.4495\n",
      "Epoch 35/50\n",
      "60000/60000 [==============================] - 17s 282us/sample - loss: 0.2240 - accuracy: 0.4492 - val_loss: 0.2234 - val_accuracy: 0.4495\n",
      "Epoch 36/50\n",
      "60000/60000 [==============================] - 20s 333us/sample - loss: 0.2240 - accuracy: 0.4492 - val_loss: 0.2234 - val_accuracy: 0.4495\n",
      "Epoch 37/50\n",
      "60000/60000 [==============================] - 21s 351us/sample - loss: 0.2240 - accuracy: 0.4492 - val_loss: 0.2234 - val_accuracy: 0.4495\n",
      "Epoch 38/50\n",
      "60000/60000 [==============================] - 15s 255us/sample - loss: 0.2240 - accuracy: 0.4492 - val_loss: 0.2234 - val_accuracy: 0.4495\n",
      "Epoch 39/50\n",
      "60000/60000 [==============================] - 15s 258us/sample - loss: 0.2240 - accuracy: 0.4492 - val_loss: 0.2234 - val_accuracy: 0.4495\n",
      "Epoch 40/50\n",
      "60000/60000 [==============================] - 15s 251us/sample - loss: 0.2240 - accuracy: 0.4492 - val_loss: 0.2234 - val_accuracy: 0.4495\n",
      "Epoch 41/50\n",
      "60000/60000 [==============================] - 15s 250us/sample - loss: 0.2240 - accuracy: 0.4492 - val_loss: 0.2234 - val_accuracy: 0.4495\n",
      "Epoch 42/50\n",
      "60000/60000 [==============================] - 15s 258us/sample - loss: 0.2240 - accuracy: 0.4492 - val_loss: 0.2234 - val_accuracy: 0.4495\n",
      "Epoch 43/50\n",
      "60000/60000 [==============================] - 15s 256us/sample - loss: 0.2240 - accuracy: 0.4492 - val_loss: 0.2234 - val_accuracy: 0.4495\n",
      "Epoch 44/50\n",
      "60000/60000 [==============================] - 19s 312us/sample - loss: 0.2240 - accuracy: 0.4492 - val_loss: 0.2234 - val_accuracy: 0.4495\n",
      "Epoch 45/50\n",
      "60000/60000 [==============================] - 15s 253us/sample - loss: 0.2240 - accuracy: 0.4492 - val_loss: 0.2234 - val_accuracy: 0.4495\n",
      "Epoch 46/50\n",
      "60000/60000 [==============================] - 15s 255us/sample - loss: 0.2240 - accuracy: 0.4492 - val_loss: 0.2234 - val_accuracy: 0.4495\n",
      "Epoch 47/50\n",
      "60000/60000 [==============================] - 15s 251us/sample - loss: 0.2240 - accuracy: 0.4492 - val_loss: 0.2234 - val_accuracy: 0.4495\n",
      "Epoch 48/50\n",
      "60000/60000 [==============================] - 15s 257us/sample - loss: 0.2240 - accuracy: 0.4492 - val_loss: 0.2234 - val_accuracy: 0.4495\n",
      "Epoch 49/50\n",
      "60000/60000 [==============================] - 15s 252us/sample - loss: 0.2240 - accuracy: 0.4492 - val_loss: 0.2234 - val_accuracy: 0.4495\n",
      "Epoch 50/50\n",
      "60000/60000 [==============================] - 15s 255us/sample - loss: 0.2240 - accuracy: 0.4492 - val_loss: 0.2234 - val_accuracy: 0.4495\n",
      "Train on 60000 samples, validate on 10000 samples\n",
      "Epoch 1/50\n",
      "60000/60000 [==============================] - 16s 270us/sample - loss: 0.2240 - accuracy: 0.4492 - val_loss: 0.2234 - val_accuracy: 0.4495\n",
      "Epoch 2/50\n",
      "60000/60000 [==============================] - 18s 302us/sample - loss: 0.2240 - accuracy: 0.4492 - val_loss: 0.2234 - val_accuracy: 0.4495\n",
      "Epoch 3/50\n",
      "60000/60000 [==============================] - 16s 269us/sample - loss: 0.2240 - accuracy: 0.4492 - val_loss: 0.2233 - val_accuracy: 0.4495\n",
      "Epoch 4/50\n"
     ]
    },
    {
     "name": "stdout",
     "output_type": "stream",
     "text": [
      "60000/60000 [==============================] - 15s 257us/sample - loss: 0.2240 - accuracy: 0.4492 - val_loss: 0.2233 - val_accuracy: 0.4495\n",
      "Epoch 5/50\n",
      "60000/60000 [==============================] - 16s 259us/sample - loss: 0.2240 - accuracy: 0.4492 - val_loss: 0.2233 - val_accuracy: 0.4495\n",
      "Epoch 6/50\n",
      "60000/60000 [==============================] - 15s 254us/sample - loss: 0.2240 - accuracy: 0.4492 - val_loss: 0.2233 - val_accuracy: 0.4495\n",
      "Epoch 7/50\n",
      "60000/60000 [==============================] - 16s 260us/sample - loss: 0.2240 - accuracy: 0.4492 - val_loss: 0.2233 - val_accuracy: 0.4495\n",
      "Epoch 8/50\n",
      "60000/60000 [==============================] - 15s 257us/sample - loss: 0.2240 - accuracy: 0.4492 - val_loss: 0.2233 - val_accuracy: 0.4495\n",
      "Epoch 9/50\n",
      "60000/60000 [==============================] - 15s 257us/sample - loss: 0.2240 - accuracy: 0.4492 - val_loss: 0.2233 - val_accuracy: 0.4495\n",
      "Epoch 10/50\n",
      "60000/60000 [==============================] - 15s 255us/sample - loss: 0.2240 - accuracy: 0.4492 - val_loss: 0.2233 - val_accuracy: 0.4495\n",
      "Epoch 11/50\n",
      "60000/60000 [==============================] - 15s 257us/sample - loss: 0.2240 - accuracy: 0.4492 - val_loss: 0.2233 - val_accuracy: 0.4495\n",
      "Epoch 12/50\n",
      "60000/60000 [==============================] - 15s 256us/sample - loss: 0.2239 - accuracy: 0.4492 - val_loss: 0.2233 - val_accuracy: 0.4495\n",
      "Epoch 13/50\n",
      "60000/60000 [==============================] - 16s 260us/sample - loss: 0.2239 - accuracy: 0.4492 - val_loss: 0.2233 - val_accuracy: 0.4495\n",
      "Epoch 14/50\n",
      "60000/60000 [==============================] - 16s 261us/sample - loss: 0.2239 - accuracy: 0.4492 - val_loss: 0.2233 - val_accuracy: 0.4495\n",
      "Epoch 15/50\n",
      "60000/60000 [==============================] - 16s 259us/sample - loss: 0.2239 - accuracy: 0.4492 - val_loss: 0.2233 - val_accuracy: 0.4495\n",
      "Epoch 16/50\n",
      "60000/60000 [==============================] - 17s 281us/sample - loss: 0.2239 - accuracy: 0.4492 - val_loss: 0.2233 - val_accuracy: 0.4495\n",
      "Epoch 17/50\n",
      "60000/60000 [==============================] - 19s 308us/sample - loss: 0.2239 - accuracy: 0.4492 - val_loss: 0.2233 - val_accuracy: 0.4495\n",
      "Epoch 18/50\n",
      "60000/60000 [==============================] - 19s 310us/sample - loss: 0.2239 - accuracy: 0.4492 - val_loss: 0.2233 - val_accuracy: 0.4495\n",
      "Epoch 19/50\n",
      "60000/60000 [==============================] - 22s 364us/sample - loss: 0.2239 - accuracy: 0.4492 - val_loss: 0.2233 - val_accuracy: 0.4495\n",
      "Epoch 20/50\n",
      "60000/60000 [==============================] - 17s 287us/sample - loss: 0.2239 - accuracy: 0.4492 - val_loss: 0.2233 - val_accuracy: 0.4495\n",
      "Epoch 21/50\n",
      "60000/60000 [==============================] - 17s 280us/sample - loss: 0.2239 - accuracy: 0.4492 - val_loss: 0.2233 - val_accuracy: 0.4495\n",
      "Epoch 22/50\n",
      "60000/60000 [==============================] - 16s 271us/sample - loss: 0.2239 - accuracy: 0.4492 - val_loss: 0.2233 - val_accuracy: 0.4495\n",
      "Epoch 23/50\n",
      "60000/60000 [==============================] - 16s 261us/sample - loss: 0.2239 - accuracy: 0.4492 - val_loss: 0.2233 - val_accuracy: 0.4495\n",
      "Epoch 24/50\n",
      "60000/60000 [==============================] - 16s 269us/sample - loss: 0.2239 - accuracy: 0.4492 - val_loss: 0.2233 - val_accuracy: 0.4495\n",
      "Epoch 25/50\n",
      "60000/60000 [==============================] - 17s 284us/sample - loss: 0.2239 - accuracy: 0.4492 - val_loss: 0.2233 - val_accuracy: 0.4495\n",
      "Epoch 26/50\n",
      "60000/60000 [==============================] - 17s 283us/sample - loss: 0.2239 - accuracy: 0.4492 - val_loss: 0.2233 - val_accuracy: 0.4495\n",
      "Epoch 27/50\n",
      "60000/60000 [==============================] - 15s 255us/sample - loss: 0.2239 - accuracy: 0.4492 - val_loss: 0.2233 - val_accuracy: 0.4495\n",
      "Epoch 28/50\n",
      "60000/60000 [==============================] - 18s 292us/sample - loss: 0.2239 - accuracy: 0.4492 - val_loss: 0.2233 - val_accuracy: 0.4495\n",
      "Epoch 29/50\n",
      "60000/60000 [==============================] - 18s 306us/sample - loss: 0.2239 - accuracy: 0.4492 - val_loss: 0.2233 - val_accuracy: 0.4495\n",
      "Epoch 30/50\n",
      "60000/60000 [==============================] - 19s 314us/sample - loss: 0.2239 - accuracy: 0.4492 - val_loss: 0.2233 - val_accuracy: 0.4495\n",
      "Epoch 31/50\n",
      "60000/60000 [==============================] - 17s 281us/sample - loss: 0.2239 - accuracy: 0.4492 - val_loss: 0.2233 - val_accuracy: 0.4495\n",
      "Epoch 32/50\n",
      "60000/60000 [==============================] - 16s 261us/sample - loss: 0.2239 - accuracy: 0.4492 - val_loss: 0.2233 - val_accuracy: 0.4495\n",
      "Epoch 33/50\n",
      "60000/60000 [==============================] - 16s 262us/sample - loss: 0.2239 - accuracy: 0.4492 - val_loss: 0.2233 - val_accuracy: 0.4495\n",
      "Epoch 34/50\n",
      "60000/60000 [==============================] - 16s 265us/sample - loss: 0.2239 - accuracy: 0.4492 - val_loss: 0.2233 - val_accuracy: 0.4495\n",
      "Epoch 35/50\n",
      "60000/60000 [==============================] - 16s 265us/sample - loss: 0.2239 - accuracy: 0.4492 - val_loss: 0.2233 - val_accuracy: 0.4495\n",
      "Epoch 36/50\n",
      "60000/60000 [==============================] - 15s 258us/sample - loss: 0.2239 - accuracy: 0.4492 - val_loss: 0.2233 - val_accuracy: 0.4495\n",
      "Epoch 37/50\n",
      "60000/60000 [==============================] - 16s 259us/sample - loss: 0.2239 - accuracy: 0.4492 - val_loss: 0.2233 - val_accuracy: 0.4495\n",
      "Epoch 38/50\n",
      "60000/60000 [==============================] - 17s 283us/sample - loss: 0.2239 - accuracy: 0.4492 - val_loss: 0.2232 - val_accuracy: 0.4495\n",
      "Epoch 39/50\n",
      "60000/60000 [==============================] - 16s 263us/sample - loss: 0.2239 - accuracy: 0.4492 - val_loss: 0.2233 - val_accuracy: 0.4495\n",
      "Epoch 40/50\n",
      "60000/60000 [==============================] - 16s 261us/sample - loss: 0.2239 - accuracy: 0.4492 - val_loss: 0.2232 - val_accuracy: 0.4495\n",
      "Epoch 41/50\n",
      "60000/60000 [==============================] - 15s 258us/sample - loss: 0.2239 - accuracy: 0.4492 - val_loss: 0.2232 - val_accuracy: 0.4495\n",
      "Epoch 42/50\n",
      "60000/60000 [==============================] - 16s 259us/sample - loss: 0.2239 - accuracy: 0.4492 - val_loss: 0.2232 - val_accuracy: 0.4495\n",
      "Epoch 43/50\n",
      "60000/60000 [==============================] - 16s 260us/sample - loss: 0.2239 - accuracy: 0.4492 - val_loss: 0.2232 - val_accuracy: 0.4495\n",
      "Epoch 44/50\n",
      "60000/60000 [==============================] - 16s 259us/sample - loss: 0.2239 - accuracy: 0.4492 - val_loss: 0.2232 - val_accuracy: 0.4495\n",
      "Epoch 45/50\n",
      "60000/60000 [==============================] - 16s 259us/sample - loss: 0.2239 - accuracy: 0.4492 - val_loss: 0.2232 - val_accuracy: 0.4495\n",
      "Epoch 46/50\n",
      "60000/60000 [==============================] - 15s 257us/sample - loss: 0.2239 - accuracy: 0.4492 - val_loss: 0.2232 - val_accuracy: 0.4495\n",
      "Epoch 47/50\n",
      "60000/60000 [==============================] - 16s 262us/sample - loss: 0.2239 - accuracy: 0.4492 - val_loss: 0.2232 - val_accuracy: 0.4495\n",
      "Epoch 48/50\n",
      "60000/60000 [==============================] - 16s 267us/sample - loss: 0.2238 - accuracy: 0.4492 - val_loss: 0.2232 - val_accuracy: 0.4495\n",
      "Epoch 49/50\n",
      "60000/60000 [==============================] - 16s 262us/sample - loss: 0.2238 - accuracy: 0.4492 - val_loss: 0.2232 - val_accuracy: 0.4495\n",
      "Epoch 50/50\n",
      "60000/60000 [==============================] - 15s 258us/sample - loss: 0.2238 - accuracy: 0.4492 - val_loss: 0.2232 - val_accuracy: 0.4495\n",
      "Train on 60000 samples, validate on 10000 samples\n",
      "Epoch 1/50\n",
      "60000/60000 [==============================] - 16s 259us/sample - loss: 0.2238 - accuracy: 0.4492 - val_loss: 0.2232 - val_accuracy: 0.4495\n",
      "Epoch 2/50\n",
      "60000/60000 [==============================] - 16s 263us/sample - loss: 0.2238 - accuracy: 0.4492 - val_loss: 0.2232 - val_accuracy: 0.4495\n",
      "Epoch 3/50\n",
      "60000/60000 [==============================] - 16s 261us/sample - loss: 0.2238 - accuracy: 0.4492 - val_loss: 0.2232 - val_accuracy: 0.4495\n",
      "Epoch 4/50\n",
      "60000/60000 [==============================] - 16s 264us/sample - loss: 0.2238 - accuracy: 0.4492 - val_loss: 0.2232 - val_accuracy: 0.4495\n",
      "Epoch 5/50\n",
      "60000/60000 [==============================] - 16s 273us/sample - loss: 0.2238 - accuracy: 0.4492 - val_loss: 0.2232 - val_accuracy: 0.4495\n",
      "Epoch 6/50\n",
      "60000/60000 [==============================] - 17s 284us/sample - loss: 0.2238 - accuracy: 0.4492 - val_loss: 0.2232 - val_accuracy: 0.4495\n",
      "Epoch 7/50\n",
      "60000/60000 [==============================] - 17s 287us/sample - loss: 0.2238 - accuracy: 0.4492 - val_loss: 0.2232 - val_accuracy: 0.4495\n"
     ]
    },
    {
     "name": "stdout",
     "output_type": "stream",
     "text": [
      "Epoch 8/50\n",
      "60000/60000 [==============================] - 16s 262us/sample - loss: 0.2238 - accuracy: 0.4492 - val_loss: 0.2232 - val_accuracy: 0.4495\n",
      "Epoch 9/50\n",
      "60000/60000 [==============================] - 17s 276us/sample - loss: 0.2238 - accuracy: 0.4493 - val_loss: 0.2232 - val_accuracy: 0.4495\n",
      "Epoch 10/50\n",
      "60000/60000 [==============================] - 18s 304us/sample - loss: 0.2238 - accuracy: 0.4493 - val_loss: 0.2232 - val_accuracy: 0.4495\n",
      "Epoch 11/50\n",
      "60000/60000 [==============================] - 17s 275us/sample - loss: 0.2238 - accuracy: 0.4493 - val_loss: 0.2232 - val_accuracy: 0.4495\n",
      "Epoch 12/50\n",
      "60000/60000 [==============================] - 16s 271us/sample - loss: 0.2238 - accuracy: 0.4493 - val_loss: 0.2232 - val_accuracy: 0.4495\n",
      "Epoch 13/50\n",
      "60000/60000 [==============================] - 17s 288us/sample - loss: 0.2238 - accuracy: 0.4493 - val_loss: 0.2232 - val_accuracy: 0.4495\n",
      "Epoch 14/50\n",
      "60000/60000 [==============================] - 16s 270us/sample - loss: 0.2238 - accuracy: 0.4493 - val_loss: 0.2232 - val_accuracy: 0.4495\n",
      "Epoch 15/50\n",
      "60000/60000 [==============================] - 19s 309us/sample - loss: 0.2238 - accuracy: 0.4493 - val_loss: 0.2232 - val_accuracy: 0.4495\n",
      "Epoch 16/50\n",
      "60000/60000 [==============================] - 16s 271us/sample - loss: 0.2238 - accuracy: 0.4493 - val_loss: 0.2232 - val_accuracy: 0.4495\n",
      "Epoch 17/50\n",
      "60000/60000 [==============================] - 18s 306us/sample - loss: 0.2238 - accuracy: 0.4493 - val_loss: 0.2232 - val_accuracy: 0.4495\n",
      "Epoch 18/50\n",
      "60000/60000 [==============================] - 16s 262us/sample - loss: 0.2238 - accuracy: 0.4493 - val_loss: 0.2232 - val_accuracy: 0.4495\n",
      "Epoch 19/50\n",
      "60000/60000 [==============================] - 15s 257us/sample - loss: 0.2238 - accuracy: 0.4493 - val_loss: 0.2232 - val_accuracy: 0.4495\n",
      "Epoch 20/50\n",
      "60000/60000 [==============================] - 16s 265us/sample - loss: 0.2238 - accuracy: 0.4493 - val_loss: 0.2232 - val_accuracy: 0.4495\n",
      "Epoch 21/50\n",
      "60000/60000 [==============================] - 16s 266us/sample - loss: 0.2238 - accuracy: 0.4493 - val_loss: 0.2232 - val_accuracy: 0.4495\n",
      "Epoch 22/50\n",
      "60000/60000 [==============================] - 16s 260us/sample - loss: 0.2238 - accuracy: 0.4493 - val_loss: 0.2232 - val_accuracy: 0.4495\n",
      "Epoch 23/50\n",
      "60000/60000 [==============================] - 16s 261us/sample - loss: 0.2238 - accuracy: 0.4493 - val_loss: 0.2232 - val_accuracy: 0.4495\n",
      "Epoch 24/50\n",
      "60000/60000 [==============================] - 16s 267us/sample - loss: 0.2238 - accuracy: 0.4493 - val_loss: 0.2232 - val_accuracy: 0.4495\n",
      "Epoch 25/50\n",
      "60000/60000 [==============================] - 16s 266us/sample - loss: 0.2238 - accuracy: 0.4493 - val_loss: 0.2232 - val_accuracy: 0.4495\n",
      "Epoch 26/50\n",
      "60000/60000 [==============================] - 16s 266us/sample - loss: 0.2238 - accuracy: 0.4493 - val_loss: 0.2231 - val_accuracy: 0.4495\n",
      "Epoch 27/50\n",
      "60000/60000 [==============================] - 16s 263us/sample - loss: 0.2238 - accuracy: 0.4493 - val_loss: 0.2231 - val_accuracy: 0.4495\n",
      "Epoch 28/50\n",
      "60000/60000 [==============================] - 16s 262us/sample - loss: 0.2238 - accuracy: 0.4493 - val_loss: 0.2231 - val_accuracy: 0.4495\n",
      "Epoch 29/50\n",
      "60000/60000 [==============================] - 15s 256us/sample - loss: 0.2238 - accuracy: 0.4493 - val_loss: 0.2231 - val_accuracy: 0.4495\n",
      "Epoch 30/50\n",
      "60000/60000 [==============================] - 16s 265us/sample - loss: 0.2238 - accuracy: 0.4493 - val_loss: 0.2231 - val_accuracy: 0.4495\n",
      "Epoch 31/50\n",
      "60000/60000 [==============================] - 16s 267us/sample - loss: 0.2238 - accuracy: 0.4493 - val_loss: 0.2231 - val_accuracy: 0.4495\n",
      "Epoch 32/50\n",
      "60000/60000 [==============================] - 16s 265us/sample - loss: 0.2238 - accuracy: 0.4493 - val_loss: 0.2231 - val_accuracy: 0.4495\n",
      "Epoch 33/50\n",
      "60000/60000 [==============================] - 16s 268us/sample - loss: 0.2238 - accuracy: 0.4493 - val_loss: 0.2231 - val_accuracy: 0.4495\n",
      "Epoch 34/50\n",
      "60000/60000 [==============================] - 16s 268us/sample - loss: 0.2238 - accuracy: 0.4493 - val_loss: 0.2231 - val_accuracy: 0.4495\n",
      "Epoch 35/50\n",
      "60000/60000 [==============================] - 16s 261us/sample - loss: 0.2238 - accuracy: 0.4493 - val_loss: 0.2231 - val_accuracy: 0.4495\n",
      "Epoch 36/50\n",
      "60000/60000 [==============================] - 16s 265us/sample - loss: 0.2237 - accuracy: 0.4493 - val_loss: 0.2231 - val_accuracy: 0.4495\n",
      "Epoch 37/50\n",
      "60000/60000 [==============================] - 16s 266us/sample - loss: 0.2237 - accuracy: 0.4493 - val_loss: 0.2231 - val_accuracy: 0.4495\n",
      "Epoch 38/50\n",
      "60000/60000 [==============================] - 16s 268us/sample - loss: 0.2237 - accuracy: 0.4493 - val_loss: 0.2231 - val_accuracy: 0.4495\n",
      "Epoch 39/50\n",
      "60000/60000 [==============================] - 16s 260us/sample - loss: 0.2237 - accuracy: 0.4493 - val_loss: 0.2231 - val_accuracy: 0.4495\n",
      "Epoch 40/50\n",
      "60000/60000 [==============================] - 16s 268us/sample - loss: 0.2237 - accuracy: 0.4493 - val_loss: 0.2231 - val_accuracy: 0.4495\n",
      "Epoch 41/50\n",
      "60000/60000 [==============================] - 16s 265us/sample - loss: 0.2237 - accuracy: 0.4493 - val_loss: 0.2231 - val_accuracy: 0.4495\n",
      "Epoch 42/50\n",
      "60000/60000 [==============================] - 16s 265us/sample - loss: 0.2237 - accuracy: 0.4493 - val_loss: 0.2231 - val_accuracy: 0.4495\n",
      "Epoch 43/50\n",
      "60000/60000 [==============================] - 16s 268us/sample - loss: 0.2237 - accuracy: 0.4493 - val_loss: 0.2231 - val_accuracy: 0.4495\n",
      "Epoch 44/50\n",
      "60000/60000 [==============================] - 16s 265us/sample - loss: 0.2237 - accuracy: 0.4493 - val_loss: 0.2231 - val_accuracy: 0.4495\n",
      "Epoch 45/50\n",
      "60000/60000 [==============================] - 16s 266us/sample - loss: 0.2237 - accuracy: 0.4493 - val_loss: 0.2231 - val_accuracy: 0.4495\n",
      "Epoch 46/50\n",
      "60000/60000 [==============================] - 16s 266us/sample - loss: 0.2237 - accuracy: 0.4493 - val_loss: 0.2231 - val_accuracy: 0.4495\n",
      "Epoch 47/50\n",
      "60000/60000 [==============================] - 18s 294us/sample - loss: 0.2237 - accuracy: 0.4493 - val_loss: 0.2231 - val_accuracy: 0.4495\n",
      "Epoch 48/50\n",
      "60000/60000 [==============================] - 16s 266us/sample - loss: 0.2237 - accuracy: 0.4493 - val_loss: 0.2231 - val_accuracy: 0.4495\n",
      "Epoch 49/50\n",
      "60000/60000 [==============================] - 16s 267us/sample - loss: 0.2237 - accuracy: 0.4493 - val_loss: 0.2231 - val_accuracy: 0.4495\n",
      "Epoch 50/50\n",
      "60000/60000 [==============================] - 16s 270us/sample - loss: 0.2237 - accuracy: 0.4493 - val_loss: 0.2231 - val_accuracy: 0.4495\n",
      "Train on 60000 samples, validate on 10000 samples\n",
      "Epoch 1/50\n",
      "60000/60000 [==============================] - 16s 266us/sample - loss: 0.2237 - accuracy: 0.4493 - val_loss: 0.2231 - val_accuracy: 0.4495\n",
      "Epoch 2/50\n",
      "60000/60000 [==============================] - 16s 267us/sample - loss: 0.2237 - accuracy: 0.4493 - val_loss: 0.2231 - val_accuracy: 0.4495\n",
      "Epoch 3/50\n",
      "60000/60000 [==============================] - 16s 267us/sample - loss: 0.2237 - accuracy: 0.4493 - val_loss: 0.2231 - val_accuracy: 0.4495\n",
      "Epoch 4/50\n",
      "60000/60000 [==============================] - 16s 270us/sample - loss: 0.2237 - accuracy: 0.4493 - val_loss: 0.2231 - val_accuracy: 0.4495\n",
      "Epoch 5/50\n",
      "60000/60000 [==============================] - 16s 266us/sample - loss: 0.2237 - accuracy: 0.4493 - val_loss: 0.2231 - val_accuracy: 0.4495\n",
      "Epoch 6/50\n",
      "60000/60000 [==============================] - 16s 264us/sample - loss: 0.2237 - accuracy: 0.4493 - val_loss: 0.2231 - val_accuracy: 0.4495\n",
      "Epoch 7/50\n",
      "60000/60000 [==============================] - 19s 309us/sample - loss: 0.2237 - accuracy: 0.4493 - val_loss: 0.2231 - val_accuracy: 0.4495\n",
      "Epoch 8/50\n",
      "60000/60000 [==============================] - 16s 275us/sample - loss: 0.2237 - accuracy: 0.4493 - val_loss: 0.2231 - val_accuracy: 0.4495\n",
      "Epoch 9/50\n",
      "60000/60000 [==============================] - 19s 312us/sample - loss: 0.2237 - accuracy: 0.4493 - val_loss: 0.2231 - val_accuracy: 0.4495\n",
      "Epoch 10/50\n",
      "60000/60000 [==============================] - 17s 286us/sample - loss: 0.2237 - accuracy: 0.4493 - val_loss: 0.2231 - val_accuracy: 0.4495\n",
      "Epoch 11/50\n"
     ]
    },
    {
     "name": "stdout",
     "output_type": "stream",
     "text": [
      "60000/60000 [==============================] - 16s 266us/sample - loss: 0.2237 - accuracy: 0.4493 - val_loss: 0.2231 - val_accuracy: 0.4495\n",
      "Epoch 12/50\n",
      "60000/60000 [==============================] - 19s 318us/sample - loss: 0.2237 - accuracy: 0.4493 - val_loss: 0.2231 - val_accuracy: 0.4495\n",
      "Epoch 13/50\n",
      "60000/60000 [==============================] - 16s 268us/sample - loss: 0.2237 - accuracy: 0.4493 - val_loss: 0.2231 - val_accuracy: 0.4495\n",
      "Epoch 14/50\n",
      "60000/60000 [==============================] - 18s 302us/sample - loss: 0.2237 - accuracy: 0.4493 - val_loss: 0.2231 - val_accuracy: 0.4495\n",
      "Epoch 15/50\n",
      "60000/60000 [==============================] - 17s 289us/sample - loss: 0.2237 - accuracy: 0.4493 - val_loss: 0.2231 - val_accuracy: 0.4495\n",
      "Epoch 16/50\n",
      "60000/60000 [==============================] - 16s 262us/sample - loss: 0.2237 - accuracy: 0.4493 - val_loss: 0.2231 - val_accuracy: 0.4495\n",
      "Epoch 17/50\n",
      "60000/60000 [==============================] - 18s 307us/sample - loss: 0.2237 - accuracy: 0.4493 - val_loss: 0.2231 - val_accuracy: 0.4495\n",
      "Epoch 18/50\n",
      "60000/60000 [==============================] - 17s 281us/sample - loss: 0.2237 - accuracy: 0.4493 - val_loss: 0.2230 - val_accuracy: 0.4495\n",
      "Epoch 19/50\n",
      "14240/60000 [======>.......................] - ETA: 11s - loss: 0.2237 - accuracy: 0.4492"
     ]
    },
    {
     "ename": "KeyboardInterrupt",
     "evalue": "",
     "output_type": "error",
     "traceback": [
      "\u001b[1;31m---------------------------------------------------------------------------\u001b[0m",
      "\u001b[1;31mKeyboardInterrupt\u001b[0m                         Traceback (most recent call last)",
      "\u001b[1;32m<ipython-input-10-38a2c4944f84>\u001b[0m in \u001b[0;36m<module>\u001b[1;34m\u001b[0m\n\u001b[0;32m      4\u001b[0m                     \u001b[0mbatch_size\u001b[0m\u001b[1;33m=\u001b[0m\u001b[1;36m16\u001b[0m\u001b[1;33m,\u001b[0m\u001b[1;33m\u001b[0m\u001b[1;33m\u001b[0m\u001b[0m\n\u001b[0;32m      5\u001b[0m                     \u001b[0mshuffle\u001b[0m\u001b[1;33m=\u001b[0m\u001b[1;32mTrue\u001b[0m\u001b[1;33m,\u001b[0m\u001b[1;33m\u001b[0m\u001b[1;33m\u001b[0m\u001b[0m\n\u001b[1;32m----> 6\u001b[1;33m                     validation_data=(X_test_noisy, X_test_noisy))\n\u001b[0m\u001b[0;32m      7\u001b[0m     \u001b[0msave\u001b[0m\u001b[1;33m(\u001b[0m\u001b[0mautoencoder\u001b[0m\u001b[1;33m,\u001b[0m \u001b[0mencoder\u001b[0m\u001b[1;33m,\u001b[0m \u001b[0mx\u001b[0m\u001b[1;33m)\u001b[0m\u001b[1;33m\u001b[0m\u001b[1;33m\u001b[0m\u001b[0m\n\u001b[0;32m      8\u001b[0m     \u001b[0mplot\u001b[0m\u001b[1;33m(\u001b[0m\u001b[0mautoencoder\u001b[0m\u001b[1;33m,\u001b[0m \u001b[0mencoder\u001b[0m\u001b[1;33m,\u001b[0m \u001b[0mx\u001b[0m\u001b[1;33m,\u001b[0m \u001b[1;36m1\u001b[0m\u001b[1;33m)\u001b[0m\u001b[1;33m\u001b[0m\u001b[1;33m\u001b[0m\u001b[0m\n",
      "\u001b[1;32m~\\Miniconda3\\envs\\tf_gpu_mingo\\lib\\site-packages\\tensorflow_core\\python\\keras\\engine\\training.py\u001b[0m in \u001b[0;36mfit\u001b[1;34m(self, x, y, batch_size, epochs, verbose, callbacks, validation_split, validation_data, shuffle, class_weight, sample_weight, initial_epoch, steps_per_epoch, validation_steps, validation_freq, max_queue_size, workers, use_multiprocessing, **kwargs)\u001b[0m\n\u001b[0;32m    726\u001b[0m         \u001b[0mmax_queue_size\u001b[0m\u001b[1;33m=\u001b[0m\u001b[0mmax_queue_size\u001b[0m\u001b[1;33m,\u001b[0m\u001b[1;33m\u001b[0m\u001b[1;33m\u001b[0m\u001b[0m\n\u001b[0;32m    727\u001b[0m         \u001b[0mworkers\u001b[0m\u001b[1;33m=\u001b[0m\u001b[0mworkers\u001b[0m\u001b[1;33m,\u001b[0m\u001b[1;33m\u001b[0m\u001b[1;33m\u001b[0m\u001b[0m\n\u001b[1;32m--> 728\u001b[1;33m         use_multiprocessing=use_multiprocessing)\n\u001b[0m\u001b[0;32m    729\u001b[0m \u001b[1;33m\u001b[0m\u001b[0m\n\u001b[0;32m    730\u001b[0m   def evaluate(self,\n",
      "\u001b[1;32m~\\Miniconda3\\envs\\tf_gpu_mingo\\lib\\site-packages\\tensorflow_core\\python\\keras\\engine\\training_v2.py\u001b[0m in \u001b[0;36mfit\u001b[1;34m(self, model, x, y, batch_size, epochs, verbose, callbacks, validation_split, validation_data, shuffle, class_weight, sample_weight, initial_epoch, steps_per_epoch, validation_steps, validation_freq, **kwargs)\u001b[0m\n\u001b[0;32m    322\u001b[0m                 \u001b[0mmode\u001b[0m\u001b[1;33m=\u001b[0m\u001b[0mModeKeys\u001b[0m\u001b[1;33m.\u001b[0m\u001b[0mTRAIN\u001b[0m\u001b[1;33m,\u001b[0m\u001b[1;33m\u001b[0m\u001b[1;33m\u001b[0m\u001b[0m\n\u001b[0;32m    323\u001b[0m                 \u001b[0mtraining_context\u001b[0m\u001b[1;33m=\u001b[0m\u001b[0mtraining_context\u001b[0m\u001b[1;33m,\u001b[0m\u001b[1;33m\u001b[0m\u001b[1;33m\u001b[0m\u001b[0m\n\u001b[1;32m--> 324\u001b[1;33m                 total_epochs=epochs)\n\u001b[0m\u001b[0;32m    325\u001b[0m             \u001b[0mcbks\u001b[0m\u001b[1;33m.\u001b[0m\u001b[0mmake_logs\u001b[0m\u001b[1;33m(\u001b[0m\u001b[0mmodel\u001b[0m\u001b[1;33m,\u001b[0m \u001b[0mepoch_logs\u001b[0m\u001b[1;33m,\u001b[0m \u001b[0mtraining_result\u001b[0m\u001b[1;33m,\u001b[0m \u001b[0mModeKeys\u001b[0m\u001b[1;33m.\u001b[0m\u001b[0mTRAIN\u001b[0m\u001b[1;33m)\u001b[0m\u001b[1;33m\u001b[0m\u001b[1;33m\u001b[0m\u001b[0m\n\u001b[0;32m    326\u001b[0m \u001b[1;33m\u001b[0m\u001b[0m\n",
      "\u001b[1;32m~\\Miniconda3\\envs\\tf_gpu_mingo\\lib\\site-packages\\tensorflow_core\\python\\keras\\engine\\training_v2.py\u001b[0m in \u001b[0;36mrun_one_epoch\u001b[1;34m(model, iterator, execution_function, dataset_size, batch_size, strategy, steps_per_epoch, num_samples, mode, training_context, total_epochs)\u001b[0m\n\u001b[0;32m    121\u001b[0m         step=step, mode=mode, size=current_batch_size) as batch_logs:\n\u001b[0;32m    122\u001b[0m       \u001b[1;32mtry\u001b[0m\u001b[1;33m:\u001b[0m\u001b[1;33m\u001b[0m\u001b[1;33m\u001b[0m\u001b[0m\n\u001b[1;32m--> 123\u001b[1;33m         \u001b[0mbatch_outs\u001b[0m \u001b[1;33m=\u001b[0m \u001b[0mexecution_function\u001b[0m\u001b[1;33m(\u001b[0m\u001b[0miterator\u001b[0m\u001b[1;33m)\u001b[0m\u001b[1;33m\u001b[0m\u001b[1;33m\u001b[0m\u001b[0m\n\u001b[0m\u001b[0;32m    124\u001b[0m       \u001b[1;32mexcept\u001b[0m \u001b[1;33m(\u001b[0m\u001b[0mStopIteration\u001b[0m\u001b[1;33m,\u001b[0m \u001b[0merrors\u001b[0m\u001b[1;33m.\u001b[0m\u001b[0mOutOfRangeError\u001b[0m\u001b[1;33m)\u001b[0m\u001b[1;33m:\u001b[0m\u001b[1;33m\u001b[0m\u001b[1;33m\u001b[0m\u001b[0m\n\u001b[0;32m    125\u001b[0m         \u001b[1;31m# TODO(kaftan): File bug about tf function and errors.OutOfRangeError?\u001b[0m\u001b[1;33m\u001b[0m\u001b[1;33m\u001b[0m\u001b[1;33m\u001b[0m\u001b[0m\n",
      "\u001b[1;32m~\\Miniconda3\\envs\\tf_gpu_mingo\\lib\\site-packages\\tensorflow_core\\python\\keras\\engine\\training_v2_utils.py\u001b[0m in \u001b[0;36mexecution_function\u001b[1;34m(input_fn)\u001b[0m\n\u001b[0;32m     84\u001b[0m     \u001b[1;31m# `numpy` translates Tensors to values in Eager mode.\u001b[0m\u001b[1;33m\u001b[0m\u001b[1;33m\u001b[0m\u001b[1;33m\u001b[0m\u001b[0m\n\u001b[0;32m     85\u001b[0m     return nest.map_structure(_non_none_constant_value,\n\u001b[1;32m---> 86\u001b[1;33m                               distributed_function(input_fn))\n\u001b[0m\u001b[0;32m     87\u001b[0m \u001b[1;33m\u001b[0m\u001b[0m\n\u001b[0;32m     88\u001b[0m   \u001b[1;32mreturn\u001b[0m \u001b[0mexecution_function\u001b[0m\u001b[1;33m\u001b[0m\u001b[1;33m\u001b[0m\u001b[0m\n",
      "\u001b[1;32m~\\Miniconda3\\envs\\tf_gpu_mingo\\lib\\site-packages\\tensorflow_core\\python\\eager\\def_function.py\u001b[0m in \u001b[0;36m__call__\u001b[1;34m(self, *args, **kwds)\u001b[0m\n\u001b[0;32m    455\u001b[0m \u001b[1;33m\u001b[0m\u001b[0m\n\u001b[0;32m    456\u001b[0m     \u001b[0mtracing_count\u001b[0m \u001b[1;33m=\u001b[0m \u001b[0mself\u001b[0m\u001b[1;33m.\u001b[0m\u001b[0m_get_tracing_count\u001b[0m\u001b[1;33m(\u001b[0m\u001b[1;33m)\u001b[0m\u001b[1;33m\u001b[0m\u001b[1;33m\u001b[0m\u001b[0m\n\u001b[1;32m--> 457\u001b[1;33m     \u001b[0mresult\u001b[0m \u001b[1;33m=\u001b[0m \u001b[0mself\u001b[0m\u001b[1;33m.\u001b[0m\u001b[0m_call\u001b[0m\u001b[1;33m(\u001b[0m\u001b[1;33m*\u001b[0m\u001b[0margs\u001b[0m\u001b[1;33m,\u001b[0m \u001b[1;33m**\u001b[0m\u001b[0mkwds\u001b[0m\u001b[1;33m)\u001b[0m\u001b[1;33m\u001b[0m\u001b[1;33m\u001b[0m\u001b[0m\n\u001b[0m\u001b[0;32m    458\u001b[0m     \u001b[1;32mif\u001b[0m \u001b[0mtracing_count\u001b[0m \u001b[1;33m==\u001b[0m \u001b[0mself\u001b[0m\u001b[1;33m.\u001b[0m\u001b[0m_get_tracing_count\u001b[0m\u001b[1;33m(\u001b[0m\u001b[1;33m)\u001b[0m\u001b[1;33m:\u001b[0m\u001b[1;33m\u001b[0m\u001b[1;33m\u001b[0m\u001b[0m\n\u001b[0;32m    459\u001b[0m       \u001b[0mself\u001b[0m\u001b[1;33m.\u001b[0m\u001b[0m_call_counter\u001b[0m\u001b[1;33m.\u001b[0m\u001b[0mcalled_without_tracing\u001b[0m\u001b[1;33m(\u001b[0m\u001b[1;33m)\u001b[0m\u001b[1;33m\u001b[0m\u001b[1;33m\u001b[0m\u001b[0m\n",
      "\u001b[1;32m~\\Miniconda3\\envs\\tf_gpu_mingo\\lib\\site-packages\\tensorflow_core\\python\\eager\\def_function.py\u001b[0m in \u001b[0;36m_call\u001b[1;34m(self, *args, **kwds)\u001b[0m\n\u001b[0;32m    485\u001b[0m       \u001b[1;31m# In this case we have created variables on the first call, so we run the\u001b[0m\u001b[1;33m\u001b[0m\u001b[1;33m\u001b[0m\u001b[1;33m\u001b[0m\u001b[0m\n\u001b[0;32m    486\u001b[0m       \u001b[1;31m# defunned version which is guaranteed to never create variables.\u001b[0m\u001b[1;33m\u001b[0m\u001b[1;33m\u001b[0m\u001b[1;33m\u001b[0m\u001b[0m\n\u001b[1;32m--> 487\u001b[1;33m       \u001b[1;32mreturn\u001b[0m \u001b[0mself\u001b[0m\u001b[1;33m.\u001b[0m\u001b[0m_stateless_fn\u001b[0m\u001b[1;33m(\u001b[0m\u001b[1;33m*\u001b[0m\u001b[0margs\u001b[0m\u001b[1;33m,\u001b[0m \u001b[1;33m**\u001b[0m\u001b[0mkwds\u001b[0m\u001b[1;33m)\u001b[0m  \u001b[1;31m# pylint: disable=not-callable\u001b[0m\u001b[1;33m\u001b[0m\u001b[1;33m\u001b[0m\u001b[0m\n\u001b[0m\u001b[0;32m    488\u001b[0m     \u001b[1;32melif\u001b[0m \u001b[0mself\u001b[0m\u001b[1;33m.\u001b[0m\u001b[0m_stateful_fn\u001b[0m \u001b[1;32mis\u001b[0m \u001b[1;32mnot\u001b[0m \u001b[1;32mNone\u001b[0m\u001b[1;33m:\u001b[0m\u001b[1;33m\u001b[0m\u001b[1;33m\u001b[0m\u001b[0m\n\u001b[0;32m    489\u001b[0m       \u001b[1;31m# Release the lock early so that multiple threads can perform the call\u001b[0m\u001b[1;33m\u001b[0m\u001b[1;33m\u001b[0m\u001b[1;33m\u001b[0m\u001b[0m\n",
      "\u001b[1;32m~\\Miniconda3\\envs\\tf_gpu_mingo\\lib\\site-packages\\tensorflow_core\\python\\eager\\function.py\u001b[0m in \u001b[0;36m__call__\u001b[1;34m(self, *args, **kwargs)\u001b[0m\n\u001b[0;32m   1821\u001b[0m     \u001b[1;34m\"\"\"Calls a graph function specialized to the inputs.\"\"\"\u001b[0m\u001b[1;33m\u001b[0m\u001b[1;33m\u001b[0m\u001b[0m\n\u001b[0;32m   1822\u001b[0m     \u001b[0mgraph_function\u001b[0m\u001b[1;33m,\u001b[0m \u001b[0margs\u001b[0m\u001b[1;33m,\u001b[0m \u001b[0mkwargs\u001b[0m \u001b[1;33m=\u001b[0m \u001b[0mself\u001b[0m\u001b[1;33m.\u001b[0m\u001b[0m_maybe_define_function\u001b[0m\u001b[1;33m(\u001b[0m\u001b[0margs\u001b[0m\u001b[1;33m,\u001b[0m \u001b[0mkwargs\u001b[0m\u001b[1;33m)\u001b[0m\u001b[1;33m\u001b[0m\u001b[1;33m\u001b[0m\u001b[0m\n\u001b[1;32m-> 1823\u001b[1;33m     \u001b[1;32mreturn\u001b[0m \u001b[0mgraph_function\u001b[0m\u001b[1;33m.\u001b[0m\u001b[0m_filtered_call\u001b[0m\u001b[1;33m(\u001b[0m\u001b[0margs\u001b[0m\u001b[1;33m,\u001b[0m \u001b[0mkwargs\u001b[0m\u001b[1;33m)\u001b[0m  \u001b[1;31m# pylint: disable=protected-access\u001b[0m\u001b[1;33m\u001b[0m\u001b[1;33m\u001b[0m\u001b[0m\n\u001b[0m\u001b[0;32m   1824\u001b[0m \u001b[1;33m\u001b[0m\u001b[0m\n\u001b[0;32m   1825\u001b[0m   \u001b[1;33m@\u001b[0m\u001b[0mproperty\u001b[0m\u001b[1;33m\u001b[0m\u001b[1;33m\u001b[0m\u001b[0m\n",
      "\u001b[1;32m~\\Miniconda3\\envs\\tf_gpu_mingo\\lib\\site-packages\\tensorflow_core\\python\\eager\\function.py\u001b[0m in \u001b[0;36m_filtered_call\u001b[1;34m(self, args, kwargs)\u001b[0m\n\u001b[0;32m   1139\u001b[0m          if isinstance(t, (ops.Tensor,\n\u001b[0;32m   1140\u001b[0m                            resource_variable_ops.BaseResourceVariable))),\n\u001b[1;32m-> 1141\u001b[1;33m         self.captured_inputs)\n\u001b[0m\u001b[0;32m   1142\u001b[0m \u001b[1;33m\u001b[0m\u001b[0m\n\u001b[0;32m   1143\u001b[0m   \u001b[1;32mdef\u001b[0m \u001b[0m_call_flat\u001b[0m\u001b[1;33m(\u001b[0m\u001b[0mself\u001b[0m\u001b[1;33m,\u001b[0m \u001b[0margs\u001b[0m\u001b[1;33m,\u001b[0m \u001b[0mcaptured_inputs\u001b[0m\u001b[1;33m,\u001b[0m \u001b[0mcancellation_manager\u001b[0m\u001b[1;33m=\u001b[0m\u001b[1;32mNone\u001b[0m\u001b[1;33m)\u001b[0m\u001b[1;33m:\u001b[0m\u001b[1;33m\u001b[0m\u001b[1;33m\u001b[0m\u001b[0m\n",
      "\u001b[1;32m~\\Miniconda3\\envs\\tf_gpu_mingo\\lib\\site-packages\\tensorflow_core\\python\\eager\\function.py\u001b[0m in \u001b[0;36m_call_flat\u001b[1;34m(self, args, captured_inputs, cancellation_manager)\u001b[0m\n\u001b[0;32m   1222\u001b[0m     \u001b[1;32mif\u001b[0m \u001b[0mexecuting_eagerly\u001b[0m\u001b[1;33m:\u001b[0m\u001b[1;33m\u001b[0m\u001b[1;33m\u001b[0m\u001b[0m\n\u001b[0;32m   1223\u001b[0m       flat_outputs = forward_function.call(\n\u001b[1;32m-> 1224\u001b[1;33m           ctx, args, cancellation_manager=cancellation_manager)\n\u001b[0m\u001b[0;32m   1225\u001b[0m     \u001b[1;32melse\u001b[0m\u001b[1;33m:\u001b[0m\u001b[1;33m\u001b[0m\u001b[1;33m\u001b[0m\u001b[0m\n\u001b[0;32m   1226\u001b[0m       \u001b[0mgradient_name\u001b[0m \u001b[1;33m=\u001b[0m \u001b[0mself\u001b[0m\u001b[1;33m.\u001b[0m\u001b[0m_delayed_rewrite_functions\u001b[0m\u001b[1;33m.\u001b[0m\u001b[0mregister\u001b[0m\u001b[1;33m(\u001b[0m\u001b[1;33m)\u001b[0m\u001b[1;33m\u001b[0m\u001b[1;33m\u001b[0m\u001b[0m\n",
      "\u001b[1;32m~\\Miniconda3\\envs\\tf_gpu_mingo\\lib\\site-packages\\tensorflow_core\\python\\eager\\function.py\u001b[0m in \u001b[0;36mcall\u001b[1;34m(self, ctx, args, cancellation_manager)\u001b[0m\n\u001b[0;32m    509\u001b[0m               \u001b[0minputs\u001b[0m\u001b[1;33m=\u001b[0m\u001b[0margs\u001b[0m\u001b[1;33m,\u001b[0m\u001b[1;33m\u001b[0m\u001b[1;33m\u001b[0m\u001b[0m\n\u001b[0;32m    510\u001b[0m               \u001b[0mattrs\u001b[0m\u001b[1;33m=\u001b[0m\u001b[1;33m(\u001b[0m\u001b[1;34m\"executor_type\"\u001b[0m\u001b[1;33m,\u001b[0m \u001b[0mexecutor_type\u001b[0m\u001b[1;33m,\u001b[0m \u001b[1;34m\"config_proto\"\u001b[0m\u001b[1;33m,\u001b[0m \u001b[0mconfig\u001b[0m\u001b[1;33m)\u001b[0m\u001b[1;33m,\u001b[0m\u001b[1;33m\u001b[0m\u001b[1;33m\u001b[0m\u001b[0m\n\u001b[1;32m--> 511\u001b[1;33m               ctx=ctx)\n\u001b[0m\u001b[0;32m    512\u001b[0m         \u001b[1;32melse\u001b[0m\u001b[1;33m:\u001b[0m\u001b[1;33m\u001b[0m\u001b[1;33m\u001b[0m\u001b[0m\n\u001b[0;32m    513\u001b[0m           outputs = execute.execute_with_cancellation(\n",
      "\u001b[1;32m~\\Miniconda3\\envs\\tf_gpu_mingo\\lib\\site-packages\\tensorflow_core\\python\\eager\\execute.py\u001b[0m in \u001b[0;36mquick_execute\u001b[1;34m(op_name, num_outputs, inputs, attrs, ctx, name)\u001b[0m\n\u001b[0;32m     59\u001b[0m     tensors = pywrap_tensorflow.TFE_Py_Execute(ctx._handle, device_name,\n\u001b[0;32m     60\u001b[0m                                                \u001b[0mop_name\u001b[0m\u001b[1;33m,\u001b[0m \u001b[0minputs\u001b[0m\u001b[1;33m,\u001b[0m \u001b[0mattrs\u001b[0m\u001b[1;33m,\u001b[0m\u001b[1;33m\u001b[0m\u001b[1;33m\u001b[0m\u001b[0m\n\u001b[1;32m---> 61\u001b[1;33m                                                num_outputs)\n\u001b[0m\u001b[0;32m     62\u001b[0m   \u001b[1;32mexcept\u001b[0m \u001b[0mcore\u001b[0m\u001b[1;33m.\u001b[0m\u001b[0m_NotOkStatusException\u001b[0m \u001b[1;32mas\u001b[0m \u001b[0me\u001b[0m\u001b[1;33m:\u001b[0m\u001b[1;33m\u001b[0m\u001b[1;33m\u001b[0m\u001b[0m\n\u001b[0;32m     63\u001b[0m     \u001b[1;32mif\u001b[0m \u001b[0mname\u001b[0m \u001b[1;32mis\u001b[0m \u001b[1;32mnot\u001b[0m \u001b[1;32mNone\u001b[0m\u001b[1;33m:\u001b[0m\u001b[1;33m\u001b[0m\u001b[1;33m\u001b[0m\u001b[0m\n",
      "\u001b[1;31mKeyboardInterrupt\u001b[0m: "
     ]
    }
   ],
   "source": [
    "for x in range(50, 60):\n",
    "    autoencoder.fit(X_train_noisy, X_train_noisy,\n",
    "                    epochs=50,\n",
    "                    batch_size=16,\n",
    "                    shuffle=True,\n",
    "                    validation_data=(X_test_noisy, X_test_noisy))\n",
    "    save(autoencoder, encoder, x)    \n",
    "    plot(autoencoder, encoder, x, 1)"
   ]
  },
  {
   "cell_type": "markdown",
   "metadata": {},
   "source": [
    "# Distance"
   ]
  },
  {
   "cell_type": "code",
   "execution_count": null,
   "metadata": {
    "scrolled": true
   },
   "outputs": [],
   "source": [
    "# for layer in autoencoder.layers: print(layer.get_config(), layer.get_weights())"
   ]
  },
  {
   "cell_type": "code",
   "execution_count": null,
   "metadata": {},
   "outputs": [],
   "source": [
    "# layer_weights = autoencoder.layers[4].get_weights()[0]"
   ]
  },
  {
   "cell_type": "code",
   "execution_count": null,
   "metadata": {},
   "outputs": [],
   "source": [
    "# layer_weights.shape"
   ]
  },
  {
   "cell_type": "code",
   "execution_count": null,
   "metadata": {},
   "outputs": [],
   "source": [
    "# encoded_imgs[2].shape"
   ]
  },
  {
   "cell_type": "code",
   "execution_count": null,
   "metadata": {},
   "outputs": [],
   "source": [
    "# autoencoder.summary()"
   ]
  },
  {
   "cell_type": "code",
   "execution_count": null,
   "metadata": {},
   "outputs": [],
   "source": [
    "# for layer in encoder.layers: print(layer.get_config(), layer.get_weights())"
   ]
  },
  {
   "cell_type": "code",
   "execution_count": null,
   "metadata": {},
   "outputs": [],
   "source": [
    "# layer_weights = encoder.layers[5].get_weights()[0]"
   ]
  },
  {
   "cell_type": "code",
   "execution_count": null,
   "metadata": {},
   "outputs": [],
   "source": [
    "# layer_weights.shape"
   ]
  },
  {
   "cell_type": "code",
   "execution_count": null,
   "metadata": {},
   "outputs": [],
   "source": [
    "# plot(autoencoder, encoder, 1, 0)"
   ]
  },
  {
   "cell_type": "code",
   "execution_count": 12,
   "metadata": {},
   "outputs": [
    {
     "ename": "FileNotFoundError",
     "evalue": "[Errno 2] No such file or directory: 'seven.jpg'",
     "output_type": "error",
     "traceback": [
      "\u001b[1;31m---------------------------------------------------------------------------\u001b[0m",
      "\u001b[1;31mFileNotFoundError\u001b[0m                         Traceback (most recent call last)",
      "\u001b[1;32m<ipython-input-12-a12a19f0fb0f>\u001b[0m in \u001b[0;36m<module>\u001b[1;34m\u001b[0m\n\u001b[0;32m      1\u001b[0m \u001b[1;32mfrom\u001b[0m \u001b[0mmatplotlib\u001b[0m\u001b[1;33m.\u001b[0m\u001b[0mimage\u001b[0m \u001b[1;32mimport\u001b[0m \u001b[0mimread\u001b[0m\u001b[1;33m\u001b[0m\u001b[1;33m\u001b[0m\u001b[0m\n\u001b[0;32m      2\u001b[0m \u001b[1;33m\u001b[0m\u001b[0m\n\u001b[1;32m----> 3\u001b[1;33m \u001b[0mimg\u001b[0m \u001b[1;33m=\u001b[0m \u001b[0mimread\u001b[0m\u001b[1;33m(\u001b[0m\u001b[1;34m'seven.jpg'\u001b[0m\u001b[1;33m)\u001b[0m\u001b[1;33m\u001b[0m\u001b[1;33m\u001b[0m\u001b[0m\n\u001b[0m\u001b[0;32m      4\u001b[0m \u001b[0mprint\u001b[0m\u001b[1;33m(\u001b[0m\u001b[0mtype\u001b[0m\u001b[1;33m(\u001b[0m\u001b[0mimg\u001b[0m\u001b[1;33m)\u001b[0m\u001b[1;33m)\u001b[0m\u001b[1;33m\u001b[0m\u001b[1;33m\u001b[0m\u001b[0m\n",
      "\u001b[1;32m~\\Miniconda3\\envs\\tf_gpu_mingo\\lib\\site-packages\\matplotlib\\image.py\u001b[0m in \u001b[0;36mimread\u001b[1;34m(fname, format)\u001b[0m\n\u001b[0;32m   1415\u001b[0m                              \u001b[1;34m'with Pillow installed matplotlib can handle '\u001b[0m\u001b[1;33m\u001b[0m\u001b[1;33m\u001b[0m\u001b[0m\n\u001b[0;32m   1416\u001b[0m                              'more images' % list(handlers))\n\u001b[1;32m-> 1417\u001b[1;33m         \u001b[1;32mwith\u001b[0m \u001b[0mImage\u001b[0m\u001b[1;33m.\u001b[0m\u001b[0mopen\u001b[0m\u001b[1;33m(\u001b[0m\u001b[0mfname\u001b[0m\u001b[1;33m)\u001b[0m \u001b[1;32mas\u001b[0m \u001b[0mimage\u001b[0m\u001b[1;33m:\u001b[0m\u001b[1;33m\u001b[0m\u001b[1;33m\u001b[0m\u001b[0m\n\u001b[0m\u001b[0;32m   1418\u001b[0m             \u001b[1;32mreturn\u001b[0m \u001b[0mpil_to_array\u001b[0m\u001b[1;33m(\u001b[0m\u001b[0mimage\u001b[0m\u001b[1;33m)\u001b[0m\u001b[1;33m\u001b[0m\u001b[1;33m\u001b[0m\u001b[0m\n\u001b[0;32m   1419\u001b[0m \u001b[1;33m\u001b[0m\u001b[0m\n",
      "\u001b[1;32m~\\Miniconda3\\envs\\tf_gpu_mingo\\lib\\site-packages\\PIL\\Image.py\u001b[0m in \u001b[0;36mopen\u001b[1;34m(fp, mode)\u001b[0m\n\u001b[0;32m   2807\u001b[0m \u001b[1;33m\u001b[0m\u001b[0m\n\u001b[0;32m   2808\u001b[0m     \u001b[1;32mif\u001b[0m \u001b[0mfilename\u001b[0m\u001b[1;33m:\u001b[0m\u001b[1;33m\u001b[0m\u001b[1;33m\u001b[0m\u001b[0m\n\u001b[1;32m-> 2809\u001b[1;33m         \u001b[0mfp\u001b[0m \u001b[1;33m=\u001b[0m \u001b[0mbuiltins\u001b[0m\u001b[1;33m.\u001b[0m\u001b[0mopen\u001b[0m\u001b[1;33m(\u001b[0m\u001b[0mfilename\u001b[0m\u001b[1;33m,\u001b[0m \u001b[1;34m\"rb\"\u001b[0m\u001b[1;33m)\u001b[0m\u001b[1;33m\u001b[0m\u001b[1;33m\u001b[0m\u001b[0m\n\u001b[0m\u001b[0;32m   2810\u001b[0m         \u001b[0mexclusive_fp\u001b[0m \u001b[1;33m=\u001b[0m \u001b[1;32mTrue\u001b[0m\u001b[1;33m\u001b[0m\u001b[1;33m\u001b[0m\u001b[0m\n\u001b[0;32m   2811\u001b[0m \u001b[1;33m\u001b[0m\u001b[0m\n",
      "\u001b[1;31mFileNotFoundError\u001b[0m: [Errno 2] No such file or directory: 'seven.jpg'"
     ]
    }
   ],
   "source": [
    "from matplotlib.image import imread\n",
    "\n",
    "img = imread('seven.jpg')\n",
    "print(type(img))"
   ]
  },
  {
   "cell_type": "code",
   "execution_count": null,
   "metadata": {},
   "outputs": [],
   "source": [
    "img = np.asarray(img)"
   ]
  },
  {
   "cell_type": "code",
   "execution_count": null,
   "metadata": {},
   "outputs": [],
   "source": [
    "img.shape"
   ]
  },
  {
   "cell_type": "code",
   "execution_count": null,
   "metadata": {},
   "outputs": [],
   "source": [
    "plt.imshow(img)"
   ]
  },
  {
   "cell_type": "code",
   "execution_count": null,
   "metadata": {},
   "outputs": [],
   "source": [
    "from skimage import color\n",
    "from skimage import io\n",
    "\n"
   ]
  },
  {
   "cell_type": "code",
   "execution_count": null,
   "metadata": {},
   "outputs": [],
   "source": [
    "imgs = []"
   ]
  },
  {
   "cell_type": "code",
   "execution_count": null,
   "metadata": {},
   "outputs": [],
   "source": [
    "imgs += (np.asarray(color.rgb2gray(io.imread('seven.jpg'))).astype('float64')/255).reshape(28, 28, 1)"
   ]
  },
  {
   "cell_type": "code",
   "execution_count": null,
   "metadata": {},
   "outputs": [],
   "source": [
    "prediction = autoencoder.predict(imgs)"
   ]
  },
  {
   "cell_type": "code",
   "execution_count": null,
   "metadata": {},
   "outputs": [],
   "source": [
    "P = prediction[0].reshape(28, 28)"
   ]
  },
  {
   "cell_type": "code",
   "execution_count": 13,
   "metadata": {},
   "outputs": [
    {
     "data": {
      "text/plain": [
       "<matplotlib.image.AxesImage at 0x230eb2ab888>"
      ]
     },
     "execution_count": 13,
     "metadata": {},
     "output_type": "execute_result"
    },
    {
     "data": {
      "image/png": "[encoded data removed]",
      "text/plain": [
       "<Figure size 432x288 with 1 Axes>"
      ]
     },
     "metadata": {
      "needs_background": "light"
     },
     "output_type": "display_data"
    }
   ],
   "source": [
    "plt.imshow(X_test_noisy[0].reshape(28, 28))"
   ]
  },
  {
   "cell_type": "code",
   "execution_count": 14,
   "metadata": {},
   "outputs": [
    {
     "ename": "NameError",
     "evalue": "name 'imgs' is not defined",
     "output_type": "error",
     "traceback": [
      "\u001b[1;31m---------------------------------------------------------------------------\u001b[0m",
      "\u001b[1;31mNameError\u001b[0m                                 Traceback (most recent call last)",
      "\u001b[1;32m<ipython-input-14-1eda80b09b4c>\u001b[0m in \u001b[0;36m<module>\u001b[1;34m\u001b[0m\n\u001b[1;32m----> 1\u001b[1;33m \u001b[0mplt\u001b[0m\u001b[1;33m.\u001b[0m\u001b[0mimshow\u001b[0m\u001b[1;33m(\u001b[0m\u001b[0mimgs\u001b[0m\u001b[1;33m[\u001b[0m\u001b[1;36m0\u001b[0m\u001b[1;33m]\u001b[0m\u001b[1;33m)\u001b[0m\u001b[1;33m\u001b[0m\u001b[1;33m\u001b[0m\u001b[0m\n\u001b[0m",
      "\u001b[1;31mNameError\u001b[0m: name 'imgs' is not defined"
     ]
    }
   ],
   "source": [
    "plt.imshow(imgs[0])"
   ]
  },
  {
   "cell_type": "code",
   "execution_count": null,
   "metadata": {},
   "outputs": [],
   "source": []
  }
 ],
 "metadata": {
  "kernelspec": {
   "display_name": "Python 3",
   "language": "python",
   "name": "python3"
  },
  "language_info": {
   "codemirror_mode": {
    "name": "ipython",
    "version": 3
   },
   "file_extension": ".py",
   "mimetype": "text/x-python",
   "name": "python",
   "nbconvert_exporter": "python",
   "pygments_lexer": "ipython3",
   "version": "3.7.6"
  }
 },
 "nbformat": 4,
 "nbformat_minor": 4
}
